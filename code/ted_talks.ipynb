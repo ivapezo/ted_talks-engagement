{
  "cells": [
    {
      "cell_type": "markdown",
      "metadata": {
        "id": "04JvUqTA5Fai"
      },
      "source": [
        "# Predicting popularity and audience engagement in TED talks based on language usage\n",
        "\n",
        "### The goals of the project\n",
        "What contributes to the broad appeal of a TED talk? Is it the speakers's upbeat and positive energy that captures the audience's attention, or does a rich and profound vocabulary play a crucial role? While we all have our personal assumptions and preferences regarding the factors that make a talk successful and beloved, this project delves into the linguistic aspects present in the transcripts to unravel the nuances that contribute to a talk's impact and resonance.\n",
        "\n",
        "The primary objective of this project is to explore how various elements of a TED talk, including vocabulary diversity, distinctiveness, emotion, and syntax, relate to user engagement. The goal is to develop models using different textual representations and identify which features are predictive of popularity and engagement - the characteristics that keep people listening.\n",
        "\n",
        "\n",
        "### Approaches and baselines\n",
        "\n",
        "Two main approaches for predicting popularity and engagement are:\n",
        "1. Classical Machine Learning Models: This approach relies on linguistic features extracted from the transcripts, employing traditional machine learning models to make predictions.\n",
        "\n",
        "2. Pre-trained BERT Model: The second approach involves utilizing a pre-trained BERT model for predictions based on the content of the transcripts leveraging the power of contextualized language representations to enhance predictive accuracy.\n",
        "\n",
        "\n",
        "This project draws inspiration from a 2021 [paper](https://aclanthology.org/2021.acl-long.52.pdf), where the authors employed various classifiers, including logistic regression with different content representations and two neural classifiers—a single-hidden-layer feedforward neural network and the pre-trained BERT model. The focus was on predicting listener engagement in both Spotify podcasts and TED talks. The aim of this project is not only to replicate but also to surpass the best performances reported in the paper by leveraging the advancements in state-of-the-art language models.\n",
        "\n",
        "In the original paper, the highest accuracy achieved for predicting engagement in TED talks using linguistic features and a logistic regression model was 71.15%. Furthermore, the best overall accuracy, reaching 71.92%, was attained with the utilization of pre-trained BERT. This project aims to push beyond these benchmarks by leveraging the latest advancements in language model technologies."
      ]
    },
    {
      "cell_type": "code",
      "execution_count": 19,
      "metadata": {
        "colab": {
          "base_uri": "https://localhost:8080/"
        },
        "id": "KS2oWj365Fal",
        "outputId": "35e8e182-ed21-4bd1-b46d-2a52e7f9568e"
      },
      "outputs": [
        {
          "output_type": "stream",
          "name": "stdout",
          "text": [
            "Drive already mounted at /content/drive; to attempt to forcibly remount, call drive.mount(\"/content/drive\", force_remount=True).\n",
            "(2550, 17)\n",
            "(2467, 2)\n"
          ]
        }
      ],
      "source": [
        "import pandas as pd\n",
        "import numpy as np\n",
        "from google.colab import drive\n",
        "\n",
        "drive.mount('/content/drive')\n",
        "\n",
        "# load dataset\n",
        "ted_main = pd.read_csv('/content/drive/MyDrive/Colab Notebooks/ted_main.csv')\n",
        "transcripts = pd.read_csv('/content/drive/MyDrive/Colab Notebooks/transcripts.csv')\n",
        "\n",
        "# print dimensions of datasets\n",
        "print(ted_main.shape)\n",
        "print(transcripts.shape)"
      ]
    },
    {
      "cell_type": "markdown",
      "metadata": {
        "id": "rDsOJJ4B5Fam"
      },
      "source": [
        "The main dataset contains metadata about TED Talks on the TED.com website until September 21st, 2017, while the transcripts for the talks are availabe in the transcripts dataset.\n",
        "\n",
        "The next step is merging of the two datasets based on the url of the talk.\n",
        "Looking into the dimensions of the two datasets, we can see that not all of the datasets have a corresponding transcript."
      ]
    },
    {
      "cell_type": "code",
      "execution_count": 2,
      "metadata": {
        "colab": {
          "base_uri": "https://localhost:8080/"
        },
        "id": "I241lz2R5Fam",
        "outputId": "14c4d54f-c485-445e-dd3d-56789f008c98"
      },
      "outputs": [
        {
          "output_type": "stream",
          "name": "stdout",
          "text": [
            "86\n"
          ]
        }
      ],
      "source": [
        "# merge df and transcripts\n",
        "df = pd.merge(ted_main, transcripts, on='url', how='left')\n",
        "\n",
        "# check if any transcripts are missing\n",
        "print(len(df[df.transcript.isnull()]))"
      ]
    },
    {
      "cell_type": "markdown",
      "metadata": {
        "id": "JSuqmT1k5Fan"
      },
      "source": [
        "There are 86 talks without a transcript. Since we are interested in the correlation of the talk's popularity and its linguistic features extracted from the transcript, we are going to remove the talks with missing transcripts."
      ]
    },
    {
      "cell_type": "code",
      "execution_count": 3,
      "metadata": {
        "id": "O3VdXu8O5Fan"
      },
      "outputs": [],
      "source": [
        "# drop rows with missing transcripts\n",
        "df = df.dropna(subset=['transcript'])\n",
        "df.reset_index(drop=True, inplace=True)"
      ]
    },
    {
      "cell_type": "code",
      "execution_count": 4,
      "metadata": {
        "colab": {
          "base_uri": "https://localhost:8080/",
          "height": 626
        },
        "id": "nintD3F45Fan",
        "outputId": "a983cf8e-27a3-4675-f6ca-df1e33c83e8a"
      },
      "outputs": [
        {
          "output_type": "stream",
          "name": "stdout",
          "text": [
            "(2467, 18)\n"
          ]
        },
        {
          "output_type": "execute_result",
          "data": {
            "text/plain": [
              "   comments                                        description  duration  \\\n",
              "0      4553  Sir Ken Robinson makes an entertaining and pro...      1164   \n",
              "1       265  With the same humor and humanity he exuded in ...       977   \n",
              "2       124  New York Times columnist David Pogue takes aim...      1286   \n",
              "3       200  In an emotionally charged talk, MacArthur-winn...      1116   \n",
              "4       593  You've never seen data presented like this. Wi...      1190   \n",
              "\n",
              "     event   film_date  languages   main_speaker  \\\n",
              "0  TED2006  1140825600         60   Ken Robinson   \n",
              "1  TED2006  1140825600         43        Al Gore   \n",
              "2  TED2006  1140739200         26    David Pogue   \n",
              "3  TED2006  1140912000         35  Majora Carter   \n",
              "4  TED2006  1140566400         48   Hans Rosling   \n",
              "\n",
              "                                            name  num_speaker  published_date  \\\n",
              "0      Ken Robinson: Do schools kill creativity?            1      1151367060   \n",
              "1           Al Gore: Averting the climate crisis            1      1151367060   \n",
              "2                  David Pogue: Simplicity sells            1      1151367060   \n",
              "3             Majora Carter: Greening the ghetto            1      1151367060   \n",
              "4  Hans Rosling: The best stats you've ever seen            1      1151440680   \n",
              "\n",
              "                                             ratings  \\\n",
              "0  [{'id': 7, 'name': 'Funny', 'count': 19645}, {...   \n",
              "1  [{'id': 7, 'name': 'Funny', 'count': 544}, {'i...   \n",
              "2  [{'id': 7, 'name': 'Funny', 'count': 964}, {'i...   \n",
              "3  [{'id': 3, 'name': 'Courageous', 'count': 760}...   \n",
              "4  [{'id': 9, 'name': 'Ingenious', 'count': 3202}...   \n",
              "\n",
              "                                       related_talks  \\\n",
              "0  [{'id': 865, 'hero': 'https://pe.tedcdn.com/im...   \n",
              "1  [{'id': 243, 'hero': 'https://pe.tedcdn.com/im...   \n",
              "2  [{'id': 1725, 'hero': 'https://pe.tedcdn.com/i...   \n",
              "3  [{'id': 1041, 'hero': 'https://pe.tedcdn.com/i...   \n",
              "4  [{'id': 2056, 'hero': 'https://pe.tedcdn.com/i...   \n",
              "\n",
              "                     speaker_occupation  \\\n",
              "0                       Author/educator   \n",
              "1                      Climate advocate   \n",
              "2                  Technology columnist   \n",
              "3    Activist for environmental justice   \n",
              "4  Global health expert; data visionary   \n",
              "\n",
              "                                                tags  \\\n",
              "0  ['children', 'creativity', 'culture', 'dance',...   \n",
              "1  ['alternative energy', 'cars', 'climate change...   \n",
              "2  ['computers', 'entertainment', 'interface desi...   \n",
              "3  ['MacArthur grant', 'activism', 'business', 'c...   \n",
              "4  ['Africa', 'Asia', 'Google', 'demo', 'economic...   \n",
              "\n",
              "                             title  \\\n",
              "0      Do schools kill creativity?   \n",
              "1      Averting the climate crisis   \n",
              "2                 Simplicity sells   \n",
              "3              Greening the ghetto   \n",
              "4  The best stats you've ever seen   \n",
              "\n",
              "                                                 url     views  \\\n",
              "0  https://www.ted.com/talks/ken_robinson_says_sc...  47227110   \n",
              "1  https://www.ted.com/talks/al_gore_on_averting_...   3200520   \n",
              "2  https://www.ted.com/talks/david_pogue_says_sim...   1636292   \n",
              "3  https://www.ted.com/talks/majora_carter_s_tale...   1697550   \n",
              "4  https://www.ted.com/talks/hans_rosling_shows_t...  12005869   \n",
              "\n",
              "                                          transcript  \n",
              "0  Good morning. How are you?(Laughter)It's been ...  \n",
              "1  Thank you so much, Chris. And it's truly a gre...  \n",
              "2  (Music: \"The Sound of Silence,\" Simon & Garfun...  \n",
              "3  If you're here today — and I'm very happy that...  \n",
              "4  About 10 years ago, I took on the task to teac...  "
            ],
            "text/html": [
              "\n",
              "  <div id=\"df-50f3b014-3d44-403b-9e0a-9f626f27ca1e\" class=\"colab-df-container\">\n",
              "    <div>\n",
              "<style scoped>\n",
              "    .dataframe tbody tr th:only-of-type {\n",
              "        vertical-align: middle;\n",
              "    }\n",
              "\n",
              "    .dataframe tbody tr th {\n",
              "        vertical-align: top;\n",
              "    }\n",
              "\n",
              "    .dataframe thead th {\n",
              "        text-align: right;\n",
              "    }\n",
              "</style>\n",
              "<table border=\"1\" class=\"dataframe\">\n",
              "  <thead>\n",
              "    <tr style=\"text-align: right;\">\n",
              "      <th></th>\n",
              "      <th>comments</th>\n",
              "      <th>description</th>\n",
              "      <th>duration</th>\n",
              "      <th>event</th>\n",
              "      <th>film_date</th>\n",
              "      <th>languages</th>\n",
              "      <th>main_speaker</th>\n",
              "      <th>name</th>\n",
              "      <th>num_speaker</th>\n",
              "      <th>published_date</th>\n",
              "      <th>ratings</th>\n",
              "      <th>related_talks</th>\n",
              "      <th>speaker_occupation</th>\n",
              "      <th>tags</th>\n",
              "      <th>title</th>\n",
              "      <th>url</th>\n",
              "      <th>views</th>\n",
              "      <th>transcript</th>\n",
              "    </tr>\n",
              "  </thead>\n",
              "  <tbody>\n",
              "    <tr>\n",
              "      <th>0</th>\n",
              "      <td>4553</td>\n",
              "      <td>Sir Ken Robinson makes an entertaining and pro...</td>\n",
              "      <td>1164</td>\n",
              "      <td>TED2006</td>\n",
              "      <td>1140825600</td>\n",
              "      <td>60</td>\n",
              "      <td>Ken Robinson</td>\n",
              "      <td>Ken Robinson: Do schools kill creativity?</td>\n",
              "      <td>1</td>\n",
              "      <td>1151367060</td>\n",
              "      <td>[{'id': 7, 'name': 'Funny', 'count': 19645}, {...</td>\n",
              "      <td>[{'id': 865, 'hero': 'https://pe.tedcdn.com/im...</td>\n",
              "      <td>Author/educator</td>\n",
              "      <td>['children', 'creativity', 'culture', 'dance',...</td>\n",
              "      <td>Do schools kill creativity?</td>\n",
              "      <td>https://www.ted.com/talks/ken_robinson_says_sc...</td>\n",
              "      <td>47227110</td>\n",
              "      <td>Good morning. How are you?(Laughter)It's been ...</td>\n",
              "    </tr>\n",
              "    <tr>\n",
              "      <th>1</th>\n",
              "      <td>265</td>\n",
              "      <td>With the same humor and humanity he exuded in ...</td>\n",
              "      <td>977</td>\n",
              "      <td>TED2006</td>\n",
              "      <td>1140825600</td>\n",
              "      <td>43</td>\n",
              "      <td>Al Gore</td>\n",
              "      <td>Al Gore: Averting the climate crisis</td>\n",
              "      <td>1</td>\n",
              "      <td>1151367060</td>\n",
              "      <td>[{'id': 7, 'name': 'Funny', 'count': 544}, {'i...</td>\n",
              "      <td>[{'id': 243, 'hero': 'https://pe.tedcdn.com/im...</td>\n",
              "      <td>Climate advocate</td>\n",
              "      <td>['alternative energy', 'cars', 'climate change...</td>\n",
              "      <td>Averting the climate crisis</td>\n",
              "      <td>https://www.ted.com/talks/al_gore_on_averting_...</td>\n",
              "      <td>3200520</td>\n",
              "      <td>Thank you so much, Chris. And it's truly a gre...</td>\n",
              "    </tr>\n",
              "    <tr>\n",
              "      <th>2</th>\n",
              "      <td>124</td>\n",
              "      <td>New York Times columnist David Pogue takes aim...</td>\n",
              "      <td>1286</td>\n",
              "      <td>TED2006</td>\n",
              "      <td>1140739200</td>\n",
              "      <td>26</td>\n",
              "      <td>David Pogue</td>\n",
              "      <td>David Pogue: Simplicity sells</td>\n",
              "      <td>1</td>\n",
              "      <td>1151367060</td>\n",
              "      <td>[{'id': 7, 'name': 'Funny', 'count': 964}, {'i...</td>\n",
              "      <td>[{'id': 1725, 'hero': 'https://pe.tedcdn.com/i...</td>\n",
              "      <td>Technology columnist</td>\n",
              "      <td>['computers', 'entertainment', 'interface desi...</td>\n",
              "      <td>Simplicity sells</td>\n",
              "      <td>https://www.ted.com/talks/david_pogue_says_sim...</td>\n",
              "      <td>1636292</td>\n",
              "      <td>(Music: \"The Sound of Silence,\" Simon &amp; Garfun...</td>\n",
              "    </tr>\n",
              "    <tr>\n",
              "      <th>3</th>\n",
              "      <td>200</td>\n",
              "      <td>In an emotionally charged talk, MacArthur-winn...</td>\n",
              "      <td>1116</td>\n",
              "      <td>TED2006</td>\n",
              "      <td>1140912000</td>\n",
              "      <td>35</td>\n",
              "      <td>Majora Carter</td>\n",
              "      <td>Majora Carter: Greening the ghetto</td>\n",
              "      <td>1</td>\n",
              "      <td>1151367060</td>\n",
              "      <td>[{'id': 3, 'name': 'Courageous', 'count': 760}...</td>\n",
              "      <td>[{'id': 1041, 'hero': 'https://pe.tedcdn.com/i...</td>\n",
              "      <td>Activist for environmental justice</td>\n",
              "      <td>['MacArthur grant', 'activism', 'business', 'c...</td>\n",
              "      <td>Greening the ghetto</td>\n",
              "      <td>https://www.ted.com/talks/majora_carter_s_tale...</td>\n",
              "      <td>1697550</td>\n",
              "      <td>If you're here today — and I'm very happy that...</td>\n",
              "    </tr>\n",
              "    <tr>\n",
              "      <th>4</th>\n",
              "      <td>593</td>\n",
              "      <td>You've never seen data presented like this. Wi...</td>\n",
              "      <td>1190</td>\n",
              "      <td>TED2006</td>\n",
              "      <td>1140566400</td>\n",
              "      <td>48</td>\n",
              "      <td>Hans Rosling</td>\n",
              "      <td>Hans Rosling: The best stats you've ever seen</td>\n",
              "      <td>1</td>\n",
              "      <td>1151440680</td>\n",
              "      <td>[{'id': 9, 'name': 'Ingenious', 'count': 3202}...</td>\n",
              "      <td>[{'id': 2056, 'hero': 'https://pe.tedcdn.com/i...</td>\n",
              "      <td>Global health expert; data visionary</td>\n",
              "      <td>['Africa', 'Asia', 'Google', 'demo', 'economic...</td>\n",
              "      <td>The best stats you've ever seen</td>\n",
              "      <td>https://www.ted.com/talks/hans_rosling_shows_t...</td>\n",
              "      <td>12005869</td>\n",
              "      <td>About 10 years ago, I took on the task to teac...</td>\n",
              "    </tr>\n",
              "  </tbody>\n",
              "</table>\n",
              "</div>\n",
              "    <div class=\"colab-df-buttons\">\n",
              "\n",
              "  <div class=\"colab-df-container\">\n",
              "    <button class=\"colab-df-convert\" onclick=\"convertToInteractive('df-50f3b014-3d44-403b-9e0a-9f626f27ca1e')\"\n",
              "            title=\"Convert this dataframe to an interactive table.\"\n",
              "            style=\"display:none;\">\n",
              "\n",
              "  <svg xmlns=\"http://www.w3.org/2000/svg\" height=\"24px\" viewBox=\"0 -960 960 960\">\n",
              "    <path d=\"M120-120v-720h720v720H120Zm60-500h600v-160H180v160Zm220 220h160v-160H400v160Zm0 220h160v-160H400v160ZM180-400h160v-160H180v160Zm440 0h160v-160H620v160ZM180-180h160v-160H180v160Zm440 0h160v-160H620v160Z\"/>\n",
              "  </svg>\n",
              "    </button>\n",
              "\n",
              "  <style>\n",
              "    .colab-df-container {\n",
              "      display:flex;\n",
              "      gap: 12px;\n",
              "    }\n",
              "\n",
              "    .colab-df-convert {\n",
              "      background-color: #E8F0FE;\n",
              "      border: none;\n",
              "      border-radius: 50%;\n",
              "      cursor: pointer;\n",
              "      display: none;\n",
              "      fill: #1967D2;\n",
              "      height: 32px;\n",
              "      padding: 0 0 0 0;\n",
              "      width: 32px;\n",
              "    }\n",
              "\n",
              "    .colab-df-convert:hover {\n",
              "      background-color: #E2EBFA;\n",
              "      box-shadow: 0px 1px 2px rgba(60, 64, 67, 0.3), 0px 1px 3px 1px rgba(60, 64, 67, 0.15);\n",
              "      fill: #174EA6;\n",
              "    }\n",
              "\n",
              "    .colab-df-buttons div {\n",
              "      margin-bottom: 4px;\n",
              "    }\n",
              "\n",
              "    [theme=dark] .colab-df-convert {\n",
              "      background-color: #3B4455;\n",
              "      fill: #D2E3FC;\n",
              "    }\n",
              "\n",
              "    [theme=dark] .colab-df-convert:hover {\n",
              "      background-color: #434B5C;\n",
              "      box-shadow: 0px 1px 3px 1px rgba(0, 0, 0, 0.15);\n",
              "      filter: drop-shadow(0px 1px 2px rgba(0, 0, 0, 0.3));\n",
              "      fill: #FFFFFF;\n",
              "    }\n",
              "  </style>\n",
              "\n",
              "    <script>\n",
              "      const buttonEl =\n",
              "        document.querySelector('#df-50f3b014-3d44-403b-9e0a-9f626f27ca1e button.colab-df-convert');\n",
              "      buttonEl.style.display =\n",
              "        google.colab.kernel.accessAllowed ? 'block' : 'none';\n",
              "\n",
              "      async function convertToInteractive(key) {\n",
              "        const element = document.querySelector('#df-50f3b014-3d44-403b-9e0a-9f626f27ca1e');\n",
              "        const dataTable =\n",
              "          await google.colab.kernel.invokeFunction('convertToInteractive',\n",
              "                                                    [key], {});\n",
              "        if (!dataTable) return;\n",
              "\n",
              "        const docLinkHtml = 'Like what you see? Visit the ' +\n",
              "          '<a target=\"_blank\" href=https://colab.research.google.com/notebooks/data_table.ipynb>data table notebook</a>'\n",
              "          + ' to learn more about interactive tables.';\n",
              "        element.innerHTML = '';\n",
              "        dataTable['output_type'] = 'display_data';\n",
              "        await google.colab.output.renderOutput(dataTable, element);\n",
              "        const docLink = document.createElement('div');\n",
              "        docLink.innerHTML = docLinkHtml;\n",
              "        element.appendChild(docLink);\n",
              "      }\n",
              "    </script>\n",
              "  </div>\n",
              "\n",
              "\n",
              "<div id=\"df-b9fc6db6-b1a2-4acc-826a-c36f6497bbe4\">\n",
              "  <button class=\"colab-df-quickchart\" onclick=\"quickchart('df-b9fc6db6-b1a2-4acc-826a-c36f6497bbe4')\"\n",
              "            title=\"Suggest charts\"\n",
              "            style=\"display:none;\">\n",
              "\n",
              "<svg xmlns=\"http://www.w3.org/2000/svg\" height=\"24px\"viewBox=\"0 0 24 24\"\n",
              "     width=\"24px\">\n",
              "    <g>\n",
              "        <path d=\"M19 3H5c-1.1 0-2 .9-2 2v14c0 1.1.9 2 2 2h14c1.1 0 2-.9 2-2V5c0-1.1-.9-2-2-2zM9 17H7v-7h2v7zm4 0h-2V7h2v10zm4 0h-2v-4h2v4z\"/>\n",
              "    </g>\n",
              "</svg>\n",
              "  </button>\n",
              "\n",
              "<style>\n",
              "  .colab-df-quickchart {\n",
              "      --bg-color: #E8F0FE;\n",
              "      --fill-color: #1967D2;\n",
              "      --hover-bg-color: #E2EBFA;\n",
              "      --hover-fill-color: #174EA6;\n",
              "      --disabled-fill-color: #AAA;\n",
              "      --disabled-bg-color: #DDD;\n",
              "  }\n",
              "\n",
              "  [theme=dark] .colab-df-quickchart {\n",
              "      --bg-color: #3B4455;\n",
              "      --fill-color: #D2E3FC;\n",
              "      --hover-bg-color: #434B5C;\n",
              "      --hover-fill-color: #FFFFFF;\n",
              "      --disabled-bg-color: #3B4455;\n",
              "      --disabled-fill-color: #666;\n",
              "  }\n",
              "\n",
              "  .colab-df-quickchart {\n",
              "    background-color: var(--bg-color);\n",
              "    border: none;\n",
              "    border-radius: 50%;\n",
              "    cursor: pointer;\n",
              "    display: none;\n",
              "    fill: var(--fill-color);\n",
              "    height: 32px;\n",
              "    padding: 0;\n",
              "    width: 32px;\n",
              "  }\n",
              "\n",
              "  .colab-df-quickchart:hover {\n",
              "    background-color: var(--hover-bg-color);\n",
              "    box-shadow: 0 1px 2px rgba(60, 64, 67, 0.3), 0 1px 3px 1px rgba(60, 64, 67, 0.15);\n",
              "    fill: var(--button-hover-fill-color);\n",
              "  }\n",
              "\n",
              "  .colab-df-quickchart-complete:disabled,\n",
              "  .colab-df-quickchart-complete:disabled:hover {\n",
              "    background-color: var(--disabled-bg-color);\n",
              "    fill: var(--disabled-fill-color);\n",
              "    box-shadow: none;\n",
              "  }\n",
              "\n",
              "  .colab-df-spinner {\n",
              "    border: 2px solid var(--fill-color);\n",
              "    border-color: transparent;\n",
              "    border-bottom-color: var(--fill-color);\n",
              "    animation:\n",
              "      spin 1s steps(1) infinite;\n",
              "  }\n",
              "\n",
              "  @keyframes spin {\n",
              "    0% {\n",
              "      border-color: transparent;\n",
              "      border-bottom-color: var(--fill-color);\n",
              "      border-left-color: var(--fill-color);\n",
              "    }\n",
              "    20% {\n",
              "      border-color: transparent;\n",
              "      border-left-color: var(--fill-color);\n",
              "      border-top-color: var(--fill-color);\n",
              "    }\n",
              "    30% {\n",
              "      border-color: transparent;\n",
              "      border-left-color: var(--fill-color);\n",
              "      border-top-color: var(--fill-color);\n",
              "      border-right-color: var(--fill-color);\n",
              "    }\n",
              "    40% {\n",
              "      border-color: transparent;\n",
              "      border-right-color: var(--fill-color);\n",
              "      border-top-color: var(--fill-color);\n",
              "    }\n",
              "    60% {\n",
              "      border-color: transparent;\n",
              "      border-right-color: var(--fill-color);\n",
              "    }\n",
              "    80% {\n",
              "      border-color: transparent;\n",
              "      border-right-color: var(--fill-color);\n",
              "      border-bottom-color: var(--fill-color);\n",
              "    }\n",
              "    90% {\n",
              "      border-color: transparent;\n",
              "      border-bottom-color: var(--fill-color);\n",
              "    }\n",
              "  }\n",
              "</style>\n",
              "\n",
              "  <script>\n",
              "    async function quickchart(key) {\n",
              "      const quickchartButtonEl =\n",
              "        document.querySelector('#' + key + ' button');\n",
              "      quickchartButtonEl.disabled = true;  // To prevent multiple clicks.\n",
              "      quickchartButtonEl.classList.add('colab-df-spinner');\n",
              "      try {\n",
              "        const charts = await google.colab.kernel.invokeFunction(\n",
              "            'suggestCharts', [key], {});\n",
              "      } catch (error) {\n",
              "        console.error('Error during call to suggestCharts:', error);\n",
              "      }\n",
              "      quickchartButtonEl.classList.remove('colab-df-spinner');\n",
              "      quickchartButtonEl.classList.add('colab-df-quickchart-complete');\n",
              "    }\n",
              "    (() => {\n",
              "      let quickchartButtonEl =\n",
              "        document.querySelector('#df-b9fc6db6-b1a2-4acc-826a-c36f6497bbe4 button');\n",
              "      quickchartButtonEl.style.display =\n",
              "        google.colab.kernel.accessAllowed ? 'block' : 'none';\n",
              "    })();\n",
              "  </script>\n",
              "</div>\n",
              "    </div>\n",
              "  </div>\n"
            ]
          },
          "metadata": {},
          "execution_count": 4
        }
      ],
      "source": [
        "# check the shape of the dataset\n",
        "print(df.shape)\n",
        "df.head()"
      ]
    },
    {
      "cell_type": "markdown",
      "metadata": {
        "id": "N7el-_uK5Fan"
      },
      "source": [
        "### Features Available\n",
        "- name: The official name of the TED Talk, includes the title and the speaker\n",
        "- title: The title of the talk\n",
        "- description: A blurb of what the talk is about.\n",
        "- main_speaker: The first named speaker of the talk.\n",
        "- speaker_occupation: The occupation of the main speaker.\n",
        "- num_speaker: The number of speakers in the talk.\n",
        "- duration: The duration of the talk in seconds.\n",
        "- event: The TED/TEDx event where the talk took place.\n",
        "- film_date: The Unix timestamp of the filming.\n",
        "- published_date: The Unix timestamp for the publication of the talk on TED.com\n",
        "- comments: The number of first level comments made on the talk.\n",
        "- tags: The themes associated with the talk.\n",
        "- languages: The number of languages in which the talk is available.\n",
        "- ratings: A stringified dictionary of the various ratings given to the talk (inspiring,   fascinating, jaw dropping, etc.)\n",
        "- related_talks: A list of dictionaries of recommended talks to watch next.\n",
        "- url: The URL of the talk.\n",
        "- views: The number of views on the talk.\n",
        "- transcript: Transcript of the given talk.\n",
        "\n",
        "In order to obtain more readable dates, we convert Unix timestamps into datetime format, keeping just the date."
      ]
    },
    {
      "cell_type": "code",
      "execution_count": 5,
      "metadata": {
        "colab": {
          "base_uri": "https://localhost:8080/"
        },
        "id": "8Isnomrd5Fan",
        "outputId": "86cacc24-124d-4afb-99ba-0785f730d912"
      },
      "outputs": [
        {
          "output_type": "stream",
          "name": "stdout",
          "text": [
            "  film_datetime published_datetime\n",
            "0    2006-02-25         2006-06-27\n",
            "1    2006-02-25         2006-06-27\n",
            "2    2006-02-24         2006-06-27\n",
            "3    2006-02-26         2006-06-27\n",
            "4    2006-02-22         2006-06-27\n"
          ]
        }
      ],
      "source": [
        "# convert film_date and published_date to datetime\n",
        "df['film_datetime'] = pd.to_datetime(df['film_date'], unit='s').dt.date\n",
        "df['published_datetime'] = pd.to_datetime(df['published_date'], unit='s').dt.date\n",
        "\n",
        "print(df[['film_datetime', 'published_datetime']].head())"
      ]
    },
    {
      "cell_type": "markdown",
      "metadata": {
        "id": "YjRCUwJCKzVG"
      },
      "source": [
        "We modify the dataset creating columns for each rating category containing the count of votes for the given category."
      ]
    },
    {
      "cell_type": "code",
      "execution_count": 6,
      "metadata": {
        "id": "jadv-2VoKv-9"
      },
      "outputs": [],
      "source": [
        "import ast\n",
        "\n",
        "# convert ratings from string to list\n",
        "df['ratings'] = df['ratings'].apply(lambda x: ast.literal_eval(x))\n",
        "ratings = {}\n",
        "\n",
        "# make a column for each rating based on its name\n",
        "for index, row in df.iterrows():\n",
        "    for i in row['ratings']:\n",
        "        df.loc[index, i['name']] = i['count']\n",
        "        if i['name'] in ratings:\n",
        "          ratings[i['name']] += i['count']\n",
        "        else:\n",
        "          ratings[i['name']] = i['count']\n",
        "\n",
        "# fill in missing values with 0\n",
        "df = df.fillna(0)\n",
        "df.drop('ratings', axis=1, inplace=True)"
      ]
    },
    {
      "cell_type": "code",
      "source": [
        "# plot the distribution\n",
        "import matplotlib.pyplot as plt\n",
        "import seaborn as sns\n",
        "\n",
        "sns.set(style=\"whitegrid\")\n",
        "plt.figure(figsize=(10, 6))\n",
        "ax = sns.barplot(x=list(ratings.keys()), y=list(ratings.values()), palette=\"viridis\")\n",
        "ax.set_xticklabels(ax.get_xticklabels(), rotation=45, ha=\"right\")\n",
        "plt.xlabel('Ratings')\n",
        "plt.ylabel('Values')\n",
        "plt.title('Distribution of Ratings')\n",
        "plt.tight_layout()\n",
        "plt.show()"
      ],
      "metadata": {
        "colab": {
          "base_uri": "https://localhost:8080/",
          "height": 601
        },
        "id": "b4OExPLzYH6c",
        "outputId": "43332e44-f44c-4327-a4e3-6c4fd7fad492"
      },
      "execution_count": 11,
      "outputs": [
        {
          "output_type": "display_data",
          "data": {
            "text/plain": [
              "<Figure size 1000x600 with 1 Axes>"
            ],
            "image/png": "[encoded data removed]"
          },
          "metadata": {}
        }
      ]
    },
    {
      "cell_type": "markdown",
      "metadata": {
        "id": "_GXcEtRQK4cV"
      },
      "source": [
        "Let's look into the distribution of tags."
      ]
    },
    {
      "cell_type": "code",
      "execution_count": 12,
      "metadata": {
        "colab": {
          "base_uri": "https://localhost:8080/"
        },
        "id": "3fbHhekiK5HR",
        "outputId": "d123f9a4-6dc1-4408-b294-2243ba163b03"
      },
      "outputs": [
        {
          "output_type": "stream",
          "name": "stdout",
          "text": [
            "416\n"
          ]
        }
      ],
      "source": [
        "df['tags'] = df['tags'].apply(lambda x: ast.literal_eval(x))\n",
        "\n",
        "# count distinct tags\n",
        "tag_list = []\n",
        "for tag in df['tags']:\n",
        "    tag_list.extend(tag)\n",
        "tag_list = list(set(tag_list))\n",
        "print(len(tag_list))"
      ]
    },
    {
      "cell_type": "markdown",
      "metadata": {
        "id": "TCNGztI1K9DX"
      },
      "source": [
        "In order to summarize the tags, we count the frequency of all distinct tags, and keep only the most frequent one for each talk."
      ]
    },
    {
      "cell_type": "code",
      "execution_count": 13,
      "metadata": {
        "colab": {
          "base_uri": "https://localhost:8080/",
          "height": 519
        },
        "id": "uTKCit8XK940",
        "outputId": "c97e3bad-f15a-4ea1-bcfe-9e7a226a81b7"
      },
      "outputs": [
        {
          "output_type": "execute_result",
          "data": {
            "text/plain": [
              "               count\n",
              "technology       712\n",
              "science          548\n",
              "global issues    490\n",
              "culture          476\n",
              "TEDx             418\n",
              "design           408\n",
              "business         338\n",
              "entertainment    287\n",
              "health           234\n",
              "innovation       224\n",
              "society          223\n",
              "art              218\n",
              "social change    216\n",
              "future           194\n",
              "communication    190"
            ],
            "text/html": [
              "\n",
              "  <div id=\"df-6209f5c9-6052-433b-840a-340db301eb45\" class=\"colab-df-container\">\n",
              "    <div>\n",
              "<style scoped>\n",
              "    .dataframe tbody tr th:only-of-type {\n",
              "        vertical-align: middle;\n",
              "    }\n",
              "\n",
              "    .dataframe tbody tr th {\n",
              "        vertical-align: top;\n",
              "    }\n",
              "\n",
              "    .dataframe thead th {\n",
              "        text-align: right;\n",
              "    }\n",
              "</style>\n",
              "<table border=\"1\" class=\"dataframe\">\n",
              "  <thead>\n",
              "    <tr style=\"text-align: right;\">\n",
              "      <th></th>\n",
              "      <th>count</th>\n",
              "    </tr>\n",
              "  </thead>\n",
              "  <tbody>\n",
              "    <tr>\n",
              "      <th>technology</th>\n",
              "      <td>712</td>\n",
              "    </tr>\n",
              "    <tr>\n",
              "      <th>science</th>\n",
              "      <td>548</td>\n",
              "    </tr>\n",
              "    <tr>\n",
              "      <th>global issues</th>\n",
              "      <td>490</td>\n",
              "    </tr>\n",
              "    <tr>\n",
              "      <th>culture</th>\n",
              "      <td>476</td>\n",
              "    </tr>\n",
              "    <tr>\n",
              "      <th>TEDx</th>\n",
              "      <td>418</td>\n",
              "    </tr>\n",
              "    <tr>\n",
              "      <th>design</th>\n",
              "      <td>408</td>\n",
              "    </tr>\n",
              "    <tr>\n",
              "      <th>business</th>\n",
              "      <td>338</td>\n",
              "    </tr>\n",
              "    <tr>\n",
              "      <th>entertainment</th>\n",
              "      <td>287</td>\n",
              "    </tr>\n",
              "    <tr>\n",
              "      <th>health</th>\n",
              "      <td>234</td>\n",
              "    </tr>\n",
              "    <tr>\n",
              "      <th>innovation</th>\n",
              "      <td>224</td>\n",
              "    </tr>\n",
              "    <tr>\n",
              "      <th>society</th>\n",
              "      <td>223</td>\n",
              "    </tr>\n",
              "    <tr>\n",
              "      <th>art</th>\n",
              "      <td>218</td>\n",
              "    </tr>\n",
              "    <tr>\n",
              "      <th>social change</th>\n",
              "      <td>216</td>\n",
              "    </tr>\n",
              "    <tr>\n",
              "      <th>future</th>\n",
              "      <td>194</td>\n",
              "    </tr>\n",
              "    <tr>\n",
              "      <th>communication</th>\n",
              "      <td>190</td>\n",
              "    </tr>\n",
              "  </tbody>\n",
              "</table>\n",
              "</div>\n",
              "    <div class=\"colab-df-buttons\">\n",
              "\n",
              "  <div class=\"colab-df-container\">\n",
              "    <button class=\"colab-df-convert\" onclick=\"convertToInteractive('df-6209f5c9-6052-433b-840a-340db301eb45')\"\n",
              "            title=\"Convert this dataframe to an interactive table.\"\n",
              "            style=\"display:none;\">\n",
              "\n",
              "  <svg xmlns=\"http://www.w3.org/2000/svg\" height=\"24px\" viewBox=\"0 -960 960 960\">\n",
              "    <path d=\"M120-120v-720h720v720H120Zm60-500h600v-160H180v160Zm220 220h160v-160H400v160Zm0 220h160v-160H400v160ZM180-400h160v-160H180v160Zm440 0h160v-160H620v160ZM180-180h160v-160H180v160Zm440 0h160v-160H620v160Z\"/>\n",
              "  </svg>\n",
              "    </button>\n",
              "\n",
              "  <style>\n",
              "    .colab-df-container {\n",
              "      display:flex;\n",
              "      gap: 12px;\n",
              "    }\n",
              "\n",
              "    .colab-df-convert {\n",
              "      background-color: #E8F0FE;\n",
              "      border: none;\n",
              "      border-radius: 50%;\n",
              "      cursor: pointer;\n",
              "      display: none;\n",
              "      fill: #1967D2;\n",
              "      height: 32px;\n",
              "      padding: 0 0 0 0;\n",
              "      width: 32px;\n",
              "    }\n",
              "\n",
              "    .colab-df-convert:hover {\n",
              "      background-color: #E2EBFA;\n",
              "      box-shadow: 0px 1px 2px rgba(60, 64, 67, 0.3), 0px 1px 3px 1px rgba(60, 64, 67, 0.15);\n",
              "      fill: #174EA6;\n",
              "    }\n",
              "\n",
              "    .colab-df-buttons div {\n",
              "      margin-bottom: 4px;\n",
              "    }\n",
              "\n",
              "    [theme=dark] .colab-df-convert {\n",
              "      background-color: #3B4455;\n",
              "      fill: #D2E3FC;\n",
              "    }\n",
              "\n",
              "    [theme=dark] .colab-df-convert:hover {\n",
              "      background-color: #434B5C;\n",
              "      box-shadow: 0px 1px 3px 1px rgba(0, 0, 0, 0.15);\n",
              "      filter: drop-shadow(0px 1px 2px rgba(0, 0, 0, 0.3));\n",
              "      fill: #FFFFFF;\n",
              "    }\n",
              "  </style>\n",
              "\n",
              "    <script>\n",
              "      const buttonEl =\n",
              "        document.querySelector('#df-6209f5c9-6052-433b-840a-340db301eb45 button.colab-df-convert');\n",
              "      buttonEl.style.display =\n",
              "        google.colab.kernel.accessAllowed ? 'block' : 'none';\n",
              "\n",
              "      async function convertToInteractive(key) {\n",
              "        const element = document.querySelector('#df-6209f5c9-6052-433b-840a-340db301eb45');\n",
              "        const dataTable =\n",
              "          await google.colab.kernel.invokeFunction('convertToInteractive',\n",
              "                                                    [key], {});\n",
              "        if (!dataTable) return;\n",
              "\n",
              "        const docLinkHtml = 'Like what you see? Visit the ' +\n",
              "          '<a target=\"_blank\" href=https://colab.research.google.com/notebooks/data_table.ipynb>data table notebook</a>'\n",
              "          + ' to learn more about interactive tables.';\n",
              "        element.innerHTML = '';\n",
              "        dataTable['output_type'] = 'display_data';\n",
              "        await google.colab.output.renderOutput(dataTable, element);\n",
              "        const docLink = document.createElement('div');\n",
              "        docLink.innerHTML = docLinkHtml;\n",
              "        element.appendChild(docLink);\n",
              "      }\n",
              "    </script>\n",
              "  </div>\n",
              "\n",
              "\n",
              "<div id=\"df-60294bd2-6519-4979-b62e-753a2aaa0435\">\n",
              "  <button class=\"colab-df-quickchart\" onclick=\"quickchart('df-60294bd2-6519-4979-b62e-753a2aaa0435')\"\n",
              "            title=\"Suggest charts\"\n",
              "            style=\"display:none;\">\n",
              "\n",
              "<svg xmlns=\"http://www.w3.org/2000/svg\" height=\"24px\"viewBox=\"0 0 24 24\"\n",
              "     width=\"24px\">\n",
              "    <g>\n",
              "        <path d=\"M19 3H5c-1.1 0-2 .9-2 2v14c0 1.1.9 2 2 2h14c1.1 0 2-.9 2-2V5c0-1.1-.9-2-2-2zM9 17H7v-7h2v7zm4 0h-2V7h2v10zm4 0h-2v-4h2v4z\"/>\n",
              "    </g>\n",
              "</svg>\n",
              "  </button>\n",
              "\n",
              "<style>\n",
              "  .colab-df-quickchart {\n",
              "      --bg-color: #E8F0FE;\n",
              "      --fill-color: #1967D2;\n",
              "      --hover-bg-color: #E2EBFA;\n",
              "      --hover-fill-color: #174EA6;\n",
              "      --disabled-fill-color: #AAA;\n",
              "      --disabled-bg-color: #DDD;\n",
              "  }\n",
              "\n",
              "  [theme=dark] .colab-df-quickchart {\n",
              "      --bg-color: #3B4455;\n",
              "      --fill-color: #D2E3FC;\n",
              "      --hover-bg-color: #434B5C;\n",
              "      --hover-fill-color: #FFFFFF;\n",
              "      --disabled-bg-color: #3B4455;\n",
              "      --disabled-fill-color: #666;\n",
              "  }\n",
              "\n",
              "  .colab-df-quickchart {\n",
              "    background-color: var(--bg-color);\n",
              "    border: none;\n",
              "    border-radius: 50%;\n",
              "    cursor: pointer;\n",
              "    display: none;\n",
              "    fill: var(--fill-color);\n",
              "    height: 32px;\n",
              "    padding: 0;\n",
              "    width: 32px;\n",
              "  }\n",
              "\n",
              "  .colab-df-quickchart:hover {\n",
              "    background-color: var(--hover-bg-color);\n",
              "    box-shadow: 0 1px 2px rgba(60, 64, 67, 0.3), 0 1px 3px 1px rgba(60, 64, 67, 0.15);\n",
              "    fill: var(--button-hover-fill-color);\n",
              "  }\n",
              "\n",
              "  .colab-df-quickchart-complete:disabled,\n",
              "  .colab-df-quickchart-complete:disabled:hover {\n",
              "    background-color: var(--disabled-bg-color);\n",
              "    fill: var(--disabled-fill-color);\n",
              "    box-shadow: none;\n",
              "  }\n",
              "\n",
              "  .colab-df-spinner {\n",
              "    border: 2px solid var(--fill-color);\n",
              "    border-color: transparent;\n",
              "    border-bottom-color: var(--fill-color);\n",
              "    animation:\n",
              "      spin 1s steps(1) infinite;\n",
              "  }\n",
              "\n",
              "  @keyframes spin {\n",
              "    0% {\n",
              "      border-color: transparent;\n",
              "      border-bottom-color: var(--fill-color);\n",
              "      border-left-color: var(--fill-color);\n",
              "    }\n",
              "    20% {\n",
              "      border-color: transparent;\n",
              "      border-left-color: var(--fill-color);\n",
              "      border-top-color: var(--fill-color);\n",
              "    }\n",
              "    30% {\n",
              "      border-color: transparent;\n",
              "      border-left-color: var(--fill-color);\n",
              "      border-top-color: var(--fill-color);\n",
              "      border-right-color: var(--fill-color);\n",
              "    }\n",
              "    40% {\n",
              "      border-color: transparent;\n",
              "      border-right-color: var(--fill-color);\n",
              "      border-top-color: var(--fill-color);\n",
              "    }\n",
              "    60% {\n",
              "      border-color: transparent;\n",
              "      border-right-color: var(--fill-color);\n",
              "    }\n",
              "    80% {\n",
              "      border-color: transparent;\n",
              "      border-right-color: var(--fill-color);\n",
              "      border-bottom-color: var(--fill-color);\n",
              "    }\n",
              "    90% {\n",
              "      border-color: transparent;\n",
              "      border-bottom-color: var(--fill-color);\n",
              "    }\n",
              "  }\n",
              "</style>\n",
              "\n",
              "  <script>\n",
              "    async function quickchart(key) {\n",
              "      const quickchartButtonEl =\n",
              "        document.querySelector('#' + key + ' button');\n",
              "      quickchartButtonEl.disabled = true;  // To prevent multiple clicks.\n",
              "      quickchartButtonEl.classList.add('colab-df-spinner');\n",
              "      try {\n",
              "        const charts = await google.colab.kernel.invokeFunction(\n",
              "            'suggestCharts', [key], {});\n",
              "      } catch (error) {\n",
              "        console.error('Error during call to suggestCharts:', error);\n",
              "      }\n",
              "      quickchartButtonEl.classList.remove('colab-df-spinner');\n",
              "      quickchartButtonEl.classList.add('colab-df-quickchart-complete');\n",
              "    }\n",
              "    (() => {\n",
              "      let quickchartButtonEl =\n",
              "        document.querySelector('#df-60294bd2-6519-4979-b62e-753a2aaa0435 button');\n",
              "      quickchartButtonEl.style.display =\n",
              "        google.colab.kernel.accessAllowed ? 'block' : 'none';\n",
              "    })();\n",
              "  </script>\n",
              "</div>\n",
              "    </div>\n",
              "  </div>\n"
            ]
          },
          "metadata": {},
          "execution_count": 13
        }
      ],
      "source": [
        "# count the number of talks each tag appears in\n",
        "tag_appearances = {}\n",
        "for tag in tag_list:\n",
        "    tag_appearances[tag] = 0\n",
        "for tag in tag_list:\n",
        "    for talk_tags in df['tags']:\n",
        "        if tag in talk_tags:\n",
        "            tag_appearances[tag] += 1\n",
        "\n",
        "tag_appearances = pd.DataFrame.from_dict(tag_appearances, orient='index', columns=['count'])\n",
        "tag_appearances.sort_values(by='count', ascending=False, inplace=True)\n",
        "tag_appearances.head(15)"
      ]
    },
    {
      "cell_type": "code",
      "execution_count": 14,
      "metadata": {
        "colab": {
          "base_uri": "https://localhost:8080/"
        },
        "id": "f-Ryad0tLCd_",
        "outputId": "2d93bd83-6eff-4438-8bd9-569480234b4e"
      },
      "outputs": [
        {
          "output_type": "execute_result",
          "data": {
            "text/plain": [
              "0          culture\n",
              "1       technology\n",
              "2       technology\n",
              "3         business\n",
              "4    global issues\n",
              "Name: tags, dtype: object"
            ]
          },
          "metadata": {},
          "execution_count": 14
        }
      ],
      "source": [
        "# for each talk keep only the most frequent tag based on tag_appearances\n",
        "for index, row in df.iterrows():\n",
        "    max_count = 0\n",
        "    max_tag = \"\"\n",
        "    for tag in row['tags']:\n",
        "        if tag_appearances.loc[tag, 'count'] > max_count:\n",
        "            max_count = tag_appearances.loc[tag, 'count']\n",
        "            max_tag = tag\n",
        "    df.loc[index, 'tags'] = max_tag\n",
        "\n",
        "df['tags'].head()"
      ]
    },
    {
      "cell_type": "code",
      "execution_count": 15,
      "metadata": {
        "colab": {
          "base_uri": "https://localhost:8080/"
        },
        "id": "ormhmyIJLEeg",
        "outputId": "7afa0bb5-a488-489c-b02e-209d17a06bd9"
      },
      "outputs": [
        {
          "output_type": "stream",
          "name": "stdout",
          "text": [
            "67\n"
          ]
        }
      ],
      "source": [
        "# count the number of distinct tags\n",
        "print(len(set(df['tags'])))"
      ]
    },
    {
      "cell_type": "code",
      "execution_count": 16,
      "metadata": {
        "id": "AiorNfxJLHj3"
      },
      "outputs": [],
      "source": [
        "# encode tags as integers\n",
        "from sklearn.preprocessing import LabelEncoder\n",
        "\n",
        "le = LabelEncoder()\n",
        "df['tags'] = le.fit_transform(df['tags'])"
      ]
    },
    {
      "cell_type": "markdown",
      "metadata": {
        "id": "ldPmVCHGLKBd"
      },
      "source": [
        "After encoding the tags, we also encode the event names."
      ]
    },
    {
      "cell_type": "code",
      "execution_count": 17,
      "metadata": {
        "colab": {
          "base_uri": "https://localhost:8080/"
        },
        "id": "2Pxl42hULMyy",
        "outputId": "50dbeba2-78fa-4ec7-c44d-1c10cdca966d"
      },
      "outputs": [
        {
          "output_type": "stream",
          "name": "stdout",
          "text": [
            "TED2014                  84\n",
            "TED2009                  81\n",
            "TED2013                  77\n",
            "TED2016                  75\n",
            "TED2015                  75\n",
            "                         ..\n",
            "TEDxJaffa 2012            1\n",
            "TEDxHampshireCollege      1\n",
            "TEDxGoodenoughCollege     1\n",
            "TEDxGlasgow               1\n",
            "TEDxZurich                1\n",
            "Name: event, Length: 320, dtype: int64\n"
          ]
        }
      ],
      "source": [
        "# check distribution of events\n",
        "print(df['event'].value_counts())\n",
        "\n",
        "# encode events as integers\n",
        "df['event'] = le.fit_transform(df['event'])"
      ]
    },
    {
      "cell_type": "code",
      "execution_count": 18,
      "metadata": {
        "id": "3wuX1PgtNXmw"
      },
      "outputs": [],
      "source": [
        "# create columns containing month and year\n",
        "df['month'] = pd.DatetimeIndex(df['film_datetime']).month\n",
        "df['year'] = pd.DatetimeIndex(df['film_datetime']).year"
      ]
    },
    {
      "cell_type": "markdown",
      "metadata": {
        "id": "7pgDWT3v5Fao"
      },
      "source": [
        "## Data exploration\n",
        "\n",
        "In order to get a better understanding of the dataset, we continue with a deeper exploration of the features and the dataset.\n"
      ]
    },
    {
      "cell_type": "markdown",
      "source": [
        "## Measures of popularity\n",
        "### 1. Number of views - and how are they actually counted?\n",
        "\n",
        "Using \"views\" as an approximation of popularity implies that the number of people who have viewed the talk is a reasonable indicator of how popular the talk is. A positive correlation supports this assumption, indicating that talks with higher views tend to be perceived as more popular.\n",
        "\n",
        "Each time a viewer plays a video on their device and watches for at least 30 seconds - it is counted as a view."
      ],
      "metadata": {
        "id": "W_yMzlzSRZ-t"
      }
    },
    {
      "cell_type": "code",
      "execution_count": 19,
      "metadata": {
        "colab": {
          "base_uri": "https://localhost:8080/"
        },
        "id": "pQhy_82l5Fao",
        "outputId": "7c34562f-65ac-40a3-ecf8-7c1d80434b46"
      },
      "outputs": [
        {
          "output_type": "stream",
          "name": "stdout",
          "text": [
            "Top 10 most popular talks by views:\n",
            "                                                    name     views\n",
            "0             Ken Robinson: Do schools kill creativity?  47227110\n",
            "1268  Amy Cuddy: Your body language may shape who yo...  43155405\n",
            "649       Simon Sinek: How great leaders inspire action  34309432\n",
            "800             Brené Brown: The power of vulnerability  31168150\n",
            "444   Mary Roach: 10 things you didn't know about or...  22270883\n",
            "1695  Julian Treasure: How to speak so that people w...  21594632\n",
            "198             Jill Bolte Taylor: My stroke of insight  21190883\n",
            "5                    Tony Robbins: Why we do what we do  20685401\n",
            "2033  James Veitch: This is what happens when you re...  20475972\n",
            "1338  Cameron Russell: Looks aren't everything. Beli...  19787465\n",
            "\n",
            "Top 10 talks least popular talks by views:\n",
            "                                                    name   views\n",
            "1063   Bilal Bomani: Plant fuels that could power a jet  155895\n",
            "1175      David Birch: A new way to stop identity theft  174326\n",
            "317      Jackie Tabick: The balancing act of compassion  176245\n",
            "1123                      Rick Falkvinge: I am a pirate  181010\n",
            "2424  Jon Boogz and Lil Buck: A dance to honor Mothe...  182975\n",
            "286                     Keith Bellows: The camel's hump  185275\n",
            "1043          Roger Doiron: My subversive (garden) plot  191555\n",
            "310                   Paul MacCready: Nature vs. humans  197139\n",
            "192                 Joseph Lekuton: A parable for Kenya  200726\n",
            "319        James Forbes: Compassion at the dinner table  204410\n"
          ]
        }
      ],
      "source": [
        "# print the titles of the most and least viewed talks\n",
        "print(\"Top 10 most popular talks by views:\\n\", df[['name', 'views']].sort_values('views', ascending=False).head(10))\n",
        "print(\"\\nTop 10 talks least popular talks by views:\\n\", df[['name', 'views']].sort_values('views').head(10))"
      ]
    },
    {
      "cell_type": "markdown",
      "metadata": {
        "id": "4KiHNYpW5Fao"
      },
      "source": [
        "On the first glance of the titles of the most and least popular talks, it is noticable that the talks that attract the most views are the ones on relevant topics, catchy titles, and a wider target audience unlike the lower-viewed talks with specific or niche topics, less widespread appeal and possibly less prominent speakers."
      ]
    },
    {
      "cell_type": "code",
      "execution_count": 20,
      "metadata": {
        "colab": {
          "base_uri": "https://localhost:8080/",
          "height": 692
        },
        "id": "vwroqGnD5Fao",
        "outputId": "c86e0d26-48cb-4b69-b671-37e83a9deefe"
      },
      "outputs": [
        {
          "output_type": "display_data",
          "data": {
            "text/plain": [
              "<Figure size 1000x600 with 0 Axes>"
            ]
          },
          "metadata": {}
        },
        {
          "output_type": "display_data",
          "data": {
            "text/plain": [
              "<Figure size 500x500 with 1 Axes>"
            ],
            "image/png": "[encoded data removed]"
          },
          "metadata": {}
        },
        {
          "output_type": "execute_result",
          "data": {
            "text/plain": [
              "count    2.467000e+03\n",
              "mean     1.740295e+06\n",
              "std      2.527086e+06\n",
              "min      1.558950e+05\n",
              "25%      7.875785e+05\n",
              "50%      1.149090e+06\n",
              "75%      1.736256e+06\n",
              "max      4.722711e+07\n",
              "Name: views, dtype: float64"
            ]
          },
          "metadata": {},
          "execution_count": 20
        }
      ],
      "source": [
        "# plot the distribution of the number of views\n",
        "sns.set_style('whitegrid')\n",
        "sns.set_palette('husl')\n",
        "plt.figure(figsize=(10, 6))\n",
        "sns.set_context('talk')\n",
        "sns.displot(df['views'])\n",
        "plt.title('Distribution of Views')\n",
        "plt.show()\n",
        "\n",
        "df['views'].describe()"
      ]
    },
    {
      "cell_type": "markdown",
      "metadata": {
        "id": "3Wxwj55Z5Fao"
      },
      "source": [
        "The number of views range from 50k to 47 million with an average of 1.7 million views per talk.\n",
        "The distribution is skewed, majority of the talks have a low number of views with a very few instances having a high number of views.\n",
        "\n",
        "We label the top 25% of talks based on the number of views as popular."
      ]
    },
    {
      "cell_type": "code",
      "execution_count": 21,
      "metadata": {
        "colab": {
          "base_uri": "https://localhost:8080/"
        },
        "id": "75RuXjaCAV36",
        "outputId": "2c64a6bc-16c1-4a8a-9141-6669c6fa5e76"
      },
      "outputs": [
        {
          "output_type": "execute_result",
          "data": {
            "text/plain": [
              "0    1850\n",
              "1     617\n",
              "Name: popular, dtype: int64"
            ]
          },
          "metadata": {},
          "execution_count": 21
        }
      ],
      "source": [
        "# mark talks in the last quartile as popular\n",
        "df['popular'] = np.where(df['views'] >= 1.736256e+06, 1, 0)\n",
        "df['popular'].value_counts()"
      ]
    },
    {
      "cell_type": "markdown",
      "metadata": {
        "id": "Xt2poO0a5Fap"
      },
      "source": [
        "### 2. Number of comments\n",
        "\n",
        "The number of comments reflects the level of engagement and interaction with the talk. A higher number of comments generally indicates that the content has sparked interest and has prompted viewers to share their thoughts, opinions, or questions, or it may have triggered discussions within online communities."
      ]
    },
    {
      "cell_type": "code",
      "execution_count": 22,
      "metadata": {
        "colab": {
          "base_uri": "https://localhost:8080/"
        },
        "id": "Obgk2rc95Fap",
        "outputId": "1628dd43-362f-475c-9859-b2d4ad6bd341"
      },
      "outputs": [
        {
          "output_type": "stream",
          "name": "stdout",
          "text": [
            "Top 10 talks by the number of comments:\n",
            "                                                    name  comments\n",
            "95                    Richard Dawkins: Militant atheism      6404\n",
            "0             Ken Robinson: Do schools kill creativity?      4553\n",
            "619      Sam Harris: Science can answer moral questions      3356\n",
            "198             Jill Bolte Taylor: My stroke of insight      2877\n",
            "1706  David Chalmers: How do you explain consciousness?      2673\n",
            "915        Janet Echelman: Taking imagination seriously      2492\n",
            "803               Lesley Hazleton: On reading the Koran      2374\n",
            "1268  Amy Cuddy: Your body language may shape who yo...      2290\n",
            "634       Michael Specter: The danger of science denial      2272\n",
            "649       Simon Sinek: How great leaders inspire action      1930\n",
            "\n",
            "Top 10 talks by the number of comments:\n",
            "                                                    name  comments\n",
            "2451  Benjamin Grant: What it feels like to see Eart...         2\n",
            "2418  Françoise Mouly: The stories behind The New Yo...         3\n",
            "2445  Chance Coughenour: How your pictures can help ...         3\n",
            "2459  Sethembile Msezane: Living sculptures that sta...         3\n",
            "2232  Silk Road Ensemble + Rhiannon Giddens: \"St. Ja...         6\n",
            "2424  Jon Boogz and Lil Buck: A dance to honor Mothe...         6\n",
            "2311  Ani Liu: Smelfies, and other experiments in sy...         6\n",
            "2463  Armando Azua-Bustos: The most Martian place on...         6\n",
            "2411  Jimmy Lin: A simple new blood test that can ca...         7\n",
            "2460  Jun Wang: How digital DNA could help you make ...         7\n"
          ]
        }
      ],
      "source": [
        "# print the titles of the most and least viewed talks\n",
        "print(\"Top 10 talks by the number of comments:\\n\", df[['name', 'comments']].sort_values('comments', ascending=False).head(10))\n",
        "print(\"\\nTop 10 talks by the number of comments:\\n\", df[['name', 'comments']].sort_values('comments').head(10))"
      ]
    },
    {
      "cell_type": "code",
      "execution_count": 23,
      "metadata": {
        "colab": {
          "base_uri": "https://localhost:8080/",
          "height": 692
        },
        "id": "E6LroK7f5Fap",
        "outputId": "fe3a72ea-6664-43d7-fd93-ec9e42102189"
      },
      "outputs": [
        {
          "output_type": "display_data",
          "data": {
            "text/plain": [
              "<Figure size 1000x600 with 0 Axes>"
            ]
          },
          "metadata": {}
        },
        {
          "output_type": "display_data",
          "data": {
            "text/plain": [
              "<Figure size 500x500 with 1 Axes>"
            ],
            "image/png": "[encoded data removed]"
          },
          "metadata": {}
        },
        {
          "output_type": "execute_result",
          "data": {
            "text/plain": [
              "count    2467.000000\n",
              "mean      192.570734\n",
              "std       284.829983\n",
              "min         2.000000\n",
              "25%        63.000000\n",
              "50%       117.000000\n",
              "75%       222.500000\n",
              "max      6404.000000\n",
              "Name: comments, dtype: float64"
            ]
          },
          "metadata": {},
          "execution_count": 23
        }
      ],
      "source": [
        "# plot the distribution of the number of views\n",
        "sns.set_style('whitegrid')\n",
        "sns.set_palette('husl')\n",
        "plt.figure(figsize=(10, 6))\n",
        "sns.set_context('talk')\n",
        "sns.displot(df['comments'])\n",
        "plt.title('Distribution of Comments')\n",
        "plt.show()\n",
        "\n",
        "df['comments'].describe()"
      ]
    },
    {
      "cell_type": "markdown",
      "metadata": {
        "id": "oc7d6P5G5Fap"
      },
      "source": [
        "The number of comments per talk ranges from 2 to 6404, with an average of 192 comments. Again, the distribution is skewed, having a lot of talks with very few comments, which could be correlated with their low view count, or recent posting date."
      ]
    },
    {
      "cell_type": "markdown",
      "metadata": {
        "id": "O1JbXYTk5Fap"
      },
      "source": [
        "After looking into the distributions, let's see if we can observe any correlation between the number of views and comments. Are the videos with more views more likely to get more comments by  attracting a larger audience, resulting in increased opportunities for viewers to leave comments?"
      ]
    },
    {
      "cell_type": "code",
      "execution_count": 113,
      "metadata": {
        "colab": {
          "base_uri": "https://localhost:8080/",
          "height": 805
        },
        "id": "lUaprj1O5Fap",
        "outputId": "992f3233-2cbd-488a-cb65-a28a9918eaf8"
      },
      "outputs": [
        {
          "output_type": "display_data",
          "data": {
            "text/plain": [
              "<Figure size 1200x800 with 1 Axes>"
            ],
            "image/png": "[encoded data removed]"
          },
          "metadata": {}
        },
        {
          "output_type": "stream",
          "name": "stdout",
          "text": [
            "             views  comments\n",
            "views     1.000000  0.530383\n",
            "comments  0.530383  1.000000\n"
          ]
        }
      ],
      "source": [
        "# plot correlation between views and comments\n",
        "plt.figure(figsize=(12, 8))\n",
        "sns.set_context('talk')\n",
        "sns.regplot(x='views', y='comments', data=df)\n",
        "plt.title('Views vs Comments')\n",
        "plt.show()\n",
        "\n",
        "print(df[['views', 'comments']].corr())"
      ]
    },
    {
      "cell_type": "markdown",
      "metadata": {
        "id": "xxY2g6T15Faq"
      },
      "source": [
        "A positive correlation between the two variables is observed, a value of 0.53 suggests that there is a moderate tendency for talks with more views to also have more comments. However, the relationship is not perfect, and there are likely other factors influencing the number of comments.\n",
        "It is important to say that it is not necesarily the number of views that causes the high engagement, but could also be the controversy of the topic, speakers that actively encourage viewers to engage, content of other comments, etc."
      ]
    },
    {
      "cell_type": "markdown",
      "metadata": {
        "id": "GEp3BdxM5Faq"
      },
      "source": [
        "### 3. Engagement rate\n",
        "\n",
        "In order to measure engagement rate of a talk, we define an engagement coefficient by dividing the number of comments for a given talk by its corresponding number of views. This metric provides insights into the interactivity and participation of the audience in response to the content."
      ]
    },
    {
      "cell_type": "code",
      "execution_count": 114,
      "metadata": {
        "colab": {
          "base_uri": "https://localhost:8080/"
        },
        "id": "IphaiTtv5Faq",
        "outputId": "27982ca0-26f0-48cc-eee6-a3c459c013e4"
      },
      "outputs": [
        {
          "output_type": "stream",
          "name": "stdout",
          "text": [
            "Top 10 talks by engagement rate:\n",
            "                                                    name  engagement_rate  \\\n",
            "767               David Bismark: E-voting without fraud         0.001534   \n",
            "95                    Richard Dawkins: Militant atheism         0.001464   \n",
            "665   Sharmeen Obaid-Chinoy: Inside a school for sui...         0.001421   \n",
            "915        Janet Echelman: Taking imagination seriously         0.001360   \n",
            "803               Lesley Hazleton: On reading the Koran         0.001285   \n",
            "839     Elizabeth Lindsey: Curating humanity's heritage         0.001264   \n",
            "1706  David Chalmers: How do you explain consciousness?         0.001236   \n",
            "634       Michael Specter: The danger of science denial         0.001236   \n",
            "550         Mallika Sarabhai: Dance to change the world         0.001235   \n",
            "1175      David Birch: A new way to stop identity theft         0.001193   \n",
            "\n",
            "        views  tags  \n",
            "767    543551    60  \n",
            "95    4374792    55  \n",
            "665   1057238    18  \n",
            "915   1832930    60  \n",
            "803   1847256    29  \n",
            "839    439180    59  \n",
            "1706  2162764     8  \n",
            "634   1838628    55  \n",
            "550    481834    29  \n",
            "1175   174326    60  \n",
            "count    2467.000000\n",
            "mean        0.000138\n",
            "std         0.000144\n",
            "min         0.000003\n",
            "25%         0.000053\n",
            "50%         0.000101\n",
            "75%         0.000168\n",
            "max         0.001534\n",
            "Name: engagement_rate, dtype: float64\n"
          ]
        }
      ],
      "source": [
        "df['engagement_rate'] = df['comments'] / df['views']\n",
        "\n",
        "# print the top 10 talks by engagement rate\n",
        "print(\"Top 10 talks by engagement rate:\\n\", df[['name', 'engagement_rate', 'views', 'tags']].sort_values('engagement_rate', ascending=False).head(10))\n",
        "\n",
        "print(df['engagement_rate'].describe())"
      ]
    },
    {
      "cell_type": "code",
      "execution_count": 115,
      "metadata": {
        "colab": {
          "base_uri": "https://localhost:8080/"
        },
        "id": "v6YQygf8AltG",
        "outputId": "de7aa4c9-1600-41d4-ba23-c3488c252892"
      },
      "outputs": [
        {
          "output_type": "execute_result",
          "data": {
            "text/plain": [
              "0    1853\n",
              "1     614\n",
              "Name: engaging, dtype: int64"
            ]
          },
          "metadata": {},
          "execution_count": 115
        }
      ],
      "source": [
        "# mark talks in the last quartile as engaging\n",
        "df['engaging'] = np.where(df['engagement_rate'] >= 0.000168, 1, 0)\n",
        "df['engaging'].value_counts()"
      ]
    },
    {
      "cell_type": "markdown",
      "metadata": {
        "id": "XcLu9rvj5Faq"
      },
      "source": [
        "## Linguistic features\n",
        "\n",
        "We define a set of explainable linguistic features that are hypothesized to affect popularity and engagement. These features have been drawn from different linguistic research papers, alongside own intuition.\n",
        "\n",
        "- Faithfulness to the Title - Assessing the alignment between a talk's content and its title. This involves measuring the similarity between the title and the initial segment (first 30s) of the video using cosine similarity based on TF-IDF bag-of-words representation.\n",
        "\n",
        "- Distinctiveness - Exploring the distinctiveness of language usage in talks, aiming to identify linguistic features that set certain talks apart and contribute to their uniqueness.\n",
        "\n",
        "- Reading Grade Level - Analyzing the complexity of language by determining the reading grade level. This metric provides insights into the accessibility and comprehensibility of talks for a diverse audience.\n",
        "\n",
        "- Vocabulary Diversity - Examining the diversity of vocabulary used in talks to understand how linguistic richness contributes to audience engagement and overall talk popularity.\n",
        "\n",
        "- Sentiment/Emotion - Investigating the sentiment or emotion conveyed in talks based on the assigned ratings. Understanding the emotional tone of a talk can provide insights into its impact on the audience.\n",
        "\n",
        "The project aims to compare the effectiveness of modeling popularity/engagement with traditional linguistic analyses against using pretrained Language Models (LLMs) with talk transcripts as inputs and the popularity/engagement rate as outputs. This comparative analysis will help evaluate the predictive power and interpretability of different modeling approaches in understanding the factors influencing talk popularity."
      ]
    },
    {
      "cell_type": "markdown",
      "metadata": {
        "id": "FQMXqKzm5Faq"
      },
      "source": [
        "### 1. Determining faithfulness to the title\n",
        "\n",
        "Each time a viewer intentionally initiates the playing of a video on their device and watches for at least 30 seconds that counts as a view.\n",
        "\n",
        "We want to determine the faithfulness of the title to the talk during the first 30 seconds, to determine if that makes an influence on the number of views of the talk.\n",
        "\n",
        "\n",
        "Since we have a transcript of a talk but not the timestamps, we can estimate the first 30 seconds based on word count. For each speech, we count the words in the transcript and divide it with the duration of the talk in order to calculate the average word count per minute per talk. Then, using this estimate, we extract the transcript during the first 30 seconds."
      ]
    },
    {
      "cell_type": "code",
      "execution_count": 116,
      "metadata": {
        "id": "aC9R-vsu5Faq"
      },
      "outputs": [],
      "source": [
        "# count the number of words per transcript\n",
        "df['num_words'] = df['transcript'].str.split().str.len()\n",
        "\n",
        "# calculate the average number of words per second\n",
        "df['words_per_sec'] = df['num_words'] / df['duration']"
      ]
    },
    {
      "cell_type": "code",
      "execution_count": 117,
      "metadata": {
        "colab": {
          "base_uri": "https://localhost:8080/"
        },
        "id": "pSK55QNn5Faq",
        "outputId": "e5dc99b0-4a6a-47a5-b130-9f0b77ddba55"
      },
      "outputs": [
        {
          "output_type": "stream",
          "name": "stdout",
          "text": [
            "0    Good morning. How are you?(Laughter)It's been ...\n",
            "1    Thank you so much, Chris. And it's truly a gre...\n",
            "2    (Music: \"The Sound of Silence,\" Simon & Garfun...\n",
            "3    If you're here today — and I'm very happy that...\n",
            "4    About 10 years ago, I took on the task to teac...\n",
            "Name: transcript_30s, dtype: object\n"
          ]
        }
      ],
      "source": [
        "# using the words per second rate, concatenate the the transcript using just the first 30 seconds\n",
        "df['transcript_30s'] = df.apply(lambda row: ' '.join(row['transcript'].split()[:int(row['words_per_sec']) * 30]), axis=1)\n",
        "print(df['transcript_30s'].head())"
      ]
    },
    {
      "cell_type": "markdown",
      "metadata": {
        "id": "sPwo0pXS5Far"
      },
      "source": [
        "Now based on the first 30 seconds of the talk, we calculate the cosine similarity between the TF-IDF bag of words representation of both texts."
      ]
    },
    {
      "cell_type": "code",
      "execution_count": 118,
      "metadata": {
        "colab": {
          "base_uri": "https://localhost:8080/"
        },
        "id": "OvN52k6f5Far",
        "outputId": "065b5507-d570-4905-e8f8-6c509f1d9a7f"
      },
      "outputs": [
        {
          "output_type": "stream",
          "name": "stdout",
          "text": [
            "0    0.133536\n",
            "1    0.000000\n",
            "2    0.000000\n",
            "3    0.000000\n",
            "4    0.000000\n",
            "Name: similarity_score, dtype: float64\n"
          ]
        }
      ],
      "source": [
        "# calculate TF-IDF for the first 30 seconds of the transcript and title\n",
        "from sklearn.feature_extraction.text import TfidfVectorizer\n",
        "from sklearn.metrics.pairwise import cosine_similarity\n",
        "import pandas as pd\n",
        "\n",
        "# TF-IDF Vectorization\n",
        "tfidf_vectorizer = TfidfVectorizer(stop_words='english')\n",
        "\n",
        "# use the 30 second transcript and title as the documents\n",
        "tfidf_matrix_transcript = tfidf_vectorizer.fit_transform(df['transcript_30s'])\n",
        "# calculate TF-IDF for the title\n",
        "tfidf_matrix_title = tfidf_vectorizer.transform(df['title'])\n",
        "\n",
        "# Step 3: Cosine Similarity Calculation\n",
        "cosine_similarities = cosine_similarity(tfidf_matrix_title, tfidf_matrix_transcript)\n",
        "\n",
        "# use the diagonal of the cosine similarity matrix to get the similarity score\n",
        "df['similarity_score'] = np.diag(cosine_similarities)\n",
        "print(df['similarity_score'].head())\n"
      ]
    },
    {
      "cell_type": "markdown",
      "metadata": {
        "id": "8kujYU2l5Far"
      },
      "source": [
        "#### Interpretation of the cos similarities\n",
        "\n",
        "The cosine similarity score ranges from -1 to 1 and is a measure of similarity between two vectors.\n",
        "In the context of text similarity, a cosine similarity score of 1 means that the two pieces of text are very similar or contain the same set of words, while a cosine similarity score of 0 suggests that the vectors are orthogonal to each other. In the context of text, it means that the two pieces of text are dissimilar or share no common words.\n",
        "\n",
        "For a sanity check, we display examples where the title is similar to the transcript and where it is not."
      ]
    },
    {
      "cell_type": "code",
      "execution_count": 119,
      "metadata": {
        "colab": {
          "base_uri": "https://localhost:8080/"
        },
        "id": "4q2BPXGo5Far",
        "outputId": "bca6a8c4-593c-4238-d5c5-92e8efc494e2"
      },
      "outputs": [
        {
          "output_type": "stream",
          "name": "stdout",
          "text": [
            "The most similar transcripts: \n",
            "                                       title  \\\n",
            "1064                   Is there a real you?   \n",
            "1155     404, the story of a page not found   \n",
            "944   Embracing otherness, embracing myself   \n",
            "\n",
            "                                         transcript_30s  similarity_score  \n",
            "1064  Is there a real you? This might seem to you li...          0.828061  \n",
            "1155  So what I want to try to do is tell a quick st...          0.778979  \n",
            "944   Embracing otherness. When I first heard this t...          0.743170  \n",
            "\n",
            "The least similar transcripts: \n",
            "                                                   title  \\\n",
            "1233           A test for Parkinson's with a phone call   \n",
            "1108  Religion, evolution, and the ecstasy of self-t...   \n",
            "1107  Religion, evolution, and the ecstasy of self-t...   \n",
            "\n",
            "                                         transcript_30s  similarity_score  \n",
            "1233  So, well, I do applied math, and this is a pec...               0.0  \n",
            "1108  I have a question for you: Are you religious? ...               0.0  \n",
            "1107  I have a question for you: Are you religious? ...               0.0  \n"
          ]
        }
      ],
      "source": [
        "# print the most similar transcript and its title and similarity score\n",
        "print(\"The most similar transcripts: \\n\", df[['title', 'transcript_30s', 'similarity_score']].sort_values(by='similarity_score', ascending=False).head(3))\n",
        "\n",
        "# print the least similar transcript and its title and similarity score\n",
        "print(\"\\nThe least similar transcripts: \\n\", df[['title', 'transcript_30s', 'similarity_score']].sort_values(by='similarity_score', ascending=True).head(3))"
      ]
    },
    {
      "cell_type": "markdown",
      "metadata": {
        "id": "TAINhgqR5Far"
      },
      "source": [
        "The examples with the highest similarity are the ones where the speakers repeat the exact words of the title during the first 30 seconts of the talk."
      ]
    },
    {
      "cell_type": "markdown",
      "metadata": {
        "id": "YgTfuf_U5Far"
      },
      "source": [
        "### Determining distinctiveness\n",
        "\n",
        "Distinctiveness refers to a measure of how unique or perplexing a given text is. Perplexity is a measure of how well a probability distribution or probability model predicts a sample. In the context of language models, perplexity measures how well a language model predicts a given sequence of words, higher perplexity score indicting that the text is more surprising or less predictable according to the trained unigram language model.\n",
        "\n",
        "The autors of the paper \"Modeling Language Usage and Listener Engagement in Podcasts\" define distinctiveness as the perplexity of the given text under a unigram language model trained over all the transcripts in the dataset. To control for length, they follow the protocol in Zhang etal.(2019) of randomly sampling a constant number of words from each text and taking the mean cross entropy over a few samples.\n",
        "Taking the mean cross entropy over multiple samples helps smooth out variations that might occur due to randomness in the sampling process. It provides a more robust estimate of how well the unigram model generalizes to different subsets within a text.\n",
        "\n",
        "The mean cross entropy is inversely related to the model's performance. A lower mean cross entropy indicates better generalization and, therefore, higher distinctiveness. On the other hand, a higher mean cross entropy suggests that the model is less effective at predicting the sampled words, indicating lower distinctiveness."
      ]
    },
    {
      "cell_type": "code",
      "execution_count": 120,
      "metadata": {
        "colab": {
          "base_uri": "https://localhost:8080/"
        },
        "id": "PMNJcw7K5Far",
        "outputId": "60deb8ca-1244-4840-9b8a-bee449712dca"
      },
      "outputs": [
        {
          "output_type": "stream",
          "name": "stderr",
          "text": [
            "[nltk_data] Downloading package punkt to /root/nltk_data...\n",
            "[nltk_data]   Package punkt is already up-to-date!\n"
          ]
        },
        {
          "output_type": "stream",
          "name": "stdout",
          "text": [
            "0    25.789562\n",
            "1    30.594576\n",
            "2    25.765367\n",
            "3    25.939685\n",
            "4    25.944058\n",
            "Name: distinctiveness, dtype: float64\n"
          ]
        }
      ],
      "source": [
        "import random\n",
        "import nltk\n",
        "import numpy as np\n",
        "import pandas as pd\n",
        "from sklearn.feature_extraction.text import CountVectorizer\n",
        "\n",
        "nltk.download('punkt')  # Download the punkt tokenizer\n",
        "\n",
        "# Create a count vectorizer object\n",
        "count_vectorizer = CountVectorizer(stop_words='english')\n",
        "\n",
        "# Fit and transform the count vectorizer using the text data\n",
        "word_counts = count_vectorizer.fit_transform(df['transcript'])\n",
        "\n",
        "# Collect the vocabulary items and their counts\n",
        "vocab = count_vectorizer.get_feature_names_out()\n",
        "count = word_counts.sum(axis=0).A1\n",
        "\n",
        "# Calculate probability scores for each word\n",
        "total_word_count = count.sum()\n",
        "probabilities = count / total_word_count\n",
        "\n",
        "# Create a DataFrame for vocabulary and probabilities\n",
        "probability_score = pd.DataFrame({'word': vocab, 'prob': probabilities})\n",
        "\n",
        "# Create a dictionary for faster lookups\n",
        "word_prob_dict = dict(zip(probability_score['word'], probability_score['prob']))\n",
        "\n",
        "# Function to calculate perplexity on a subset of words\n",
        "def calculate_perplexity_subset(transcript, word_probabilities, subset_size=5, num_samples=3):\n",
        "    transcript_words = nltk.word_tokenize(transcript.lower())\n",
        "    subset_words = [random.sample(transcript_words, min(subset_size, len(transcript_words))) for _ in range(num_samples)]\n",
        "\n",
        "    mean_cross_entropy = np.mean([\n",
        "        np.sum([-np.log2(word_probabilities.get(word, 1e-10)) for word in subset]) / len(subset)\n",
        "        for subset in subset_words\n",
        "    ])\n",
        "\n",
        "    return mean_cross_entropy\n",
        "\n",
        "# Calculate distinctiveness for each transcript\n",
        "df['distinctiveness'] = df['transcript'].apply(lambda x: calculate_perplexity_subset(x, word_prob_dict))\n",
        "\n",
        "print(df['distinctiveness'].head())\n"
      ]
    },
    {
      "cell_type": "markdown",
      "metadata": {
        "id": "_6aLQAwK5Fas"
      },
      "source": [
        "### Determining reading grade level\n",
        "\n",
        "In order to determine reading grade level, we use Flesch-Kincaid and Dale-Chall grade levels.\n",
        "The Flesch-Kincaid grade level measures the number of syllables per word and the number of words per sentence, and the Dale-Chall grade level measures word 'difficulty' using a lookup table. While caution must be taken on interpreting reading grade level for transcribed speech, these measures have been explored for speech in prior work.\n",
        "\n",
        "Lower grade levels indicate easier readability, while higher grade levels suggest more complex language. Adjustments to the text, such as removing punctuation or excluding certain words, may also influence the readability scores."
      ]
    },
    {
      "cell_type": "code",
      "execution_count": 121,
      "metadata": {
        "colab": {
          "base_uri": "https://localhost:8080/"
        },
        "id": "nkPCL-Md_6BL",
        "outputId": "4842a67a-cecb-447a-9dfb-5c114e0d9cbf"
      },
      "outputs": [
        {
          "output_type": "stream",
          "name": "stdout",
          "text": [
            "Requirement already satisfied: textstat in /usr/local/lib/python3.10/dist-packages (0.7.3)\n",
            "Requirement already satisfied: pyphen in /usr/local/lib/python3.10/dist-packages (from textstat) (0.14.0)\n"
          ]
        }
      ],
      "source": [
        "!pip install textstat"
      ]
    },
    {
      "cell_type": "code",
      "execution_count": 122,
      "metadata": {
        "colab": {
          "base_uri": "https://localhost:8080/"
        },
        "id": "qkrI6ESA5Fas",
        "outputId": "bfbf750e-fef8-4d7c-b032-50bdbd4c068f"
      },
      "outputs": [
        {
          "output_type": "stream",
          "name": "stdout",
          "text": [
            "0    5.7\n",
            "1    6.5\n",
            "2    4.2\n",
            "3    8.4\n",
            "4    4.6\n",
            "Name: flesch_kincaid_grade_level, dtype: float64\n",
            "0    6.34\n",
            "1    7.12\n",
            "2    6.52\n",
            "3    7.70\n",
            "4    6.18\n",
            "Name: dale_chall_grade_level, dtype: float64\n"
          ]
        }
      ],
      "source": [
        "import textstat\n",
        "\n",
        "# Calculate Flesch-Kincaid Grade Level for each transcript\n",
        "df['flesch_kincaid_grade_level'] = df['transcript'].apply(lambda x: textstat.flesch_kincaid_grade(x))\n",
        "print(df['flesch_kincaid_grade_level'].head())\n",
        "\n",
        "# Calculate Dale-Chall Grade Level for each transcript\n",
        "df['dale_chall_grade_level'] = df['transcript'].apply(lambda x: textstat.dale_chall_readability_score(x))\n",
        "print(df['dale_chall_grade_level'].head())"
      ]
    },
    {
      "cell_type": "code",
      "execution_count": 123,
      "metadata": {
        "colab": {
          "base_uri": "https://localhost:8080/"
        },
        "id": "2AQq58235Fas",
        "outputId": "73a87893-2de3-45c7-84c8-4a29ebf62795"
      },
      "outputs": [
        {
          "output_type": "stream",
          "name": "stdout",
          "text": [
            "Highest grade levels:\n",
            "                    title                                         transcript  \\\n",
            "1173  Dancing with light  (Music)(Applause)(Music)(Applause)(Music)(Appl...   \n",
            "\n",
            "      flesch_kincaid_grade_level  \n",
            "1173                       220.8  \n",
            "                                            title  \\\n",
            "2301  An electrifying acoustic guitar performance   \n",
            "\n",
            "                                             transcript  \\\n",
            "2301  (Guitar music starts)(Cheers)(Cheers)(Music ends)   \n",
            "\n",
            "      dale_chall_grade_level  \n",
            "2301                   19.62  \n",
            "\n",
            "Lowest grade levels:\n",
            "                       title  \\\n",
            "1631  It's TED, the Musical   \n",
            "\n",
            "                                             transcript  \\\n",
            "1631  Daffodil Hudson: Hello? Yeah, this is she. Wha...   \n",
            "\n",
            "      flesch_kincaid_grade_level  \n",
            "1631                         1.5  \n",
            "                                title  \\\n",
            "270  Close-up card magic with a twist   \n",
            "\n",
            "                                            transcript  dale_chall_grade_level  \n",
            "270  My favorite topic is shortcuts. The master of ...                    5.22  \n"
          ]
        }
      ],
      "source": [
        "# transcript with the highest and lowest grade levels\n",
        "print(\"Highest grade levels:\\n\", df[['title', 'transcript', 'flesch_kincaid_grade_level']].sort_values(by='flesch_kincaid_grade_level', ascending=False).head(1))\n",
        "print(df[['title', 'transcript', 'dale_chall_grade_level']].sort_values(by='dale_chall_grade_level', ascending=False).head(1))\n",
        "\n",
        "print(\"\\nLowest grade levels:\\n\", df[['title', 'transcript', 'flesch_kincaid_grade_level']].sort_values(by='flesch_kincaid_grade_level').head(1))\n",
        "print(df[['title', 'transcript', 'dale_chall_grade_level']].sort_values(by='dale_chall_grade_level').head(1))"
      ]
    },
    {
      "cell_type": "markdown",
      "metadata": {
        "id": "zHr3QV3o5Fav"
      },
      "source": [
        "### Vocabulary Diversity\n",
        "We examine whether speakers of more popular talks use more diverse vocabularies, quantified by the entropy of the unigram words in the text, motivated by advice to avoid word repetition.\n",
        "\n",
        "We examine the diversity of vocabulary in a text using the entropy of unigram words. Entropy is a measure of uncertainty or disorder in a set, and in this context, it can be used to quantify the diversity of words in a text.\n"
      ]
    },
    {
      "cell_type": "code",
      "execution_count": 124,
      "metadata": {
        "colab": {
          "base_uri": "https://localhost:8080/"
        },
        "id": "ec3sYFlZ5Fav",
        "outputId": "837b516a-f644-40a8-9df9-eb38c78e7e76"
      },
      "outputs": [
        {
          "output_type": "stream",
          "name": "stderr",
          "text": [
            "[nltk_data] Downloading package punkt to /root/nltk_data...\n",
            "[nltk_data]   Package punkt is already up-to-date!\n"
          ]
        },
        {
          "output_type": "stream",
          "name": "stdout",
          "text": [
            "0    7.813619\n",
            "1    7.894040\n",
            "2    7.991748\n",
            "3    8.481292\n",
            "4    7.717105\n",
            "Name: vocabulary_diversity, dtype: float64\n"
          ]
        }
      ],
      "source": [
        "import nltk\n",
        "from nltk.tokenize import word_tokenize\n",
        "from collections import Counter\n",
        "import math\n",
        "\n",
        "nltk.download('punkt')  # Download the punkt tokenizer\n",
        "\n",
        "def calculate_entropy(text):\n",
        "    words = word_tokenize(text.lower())\n",
        "    word_counts = Counter(words)\n",
        "    total_words = len(words)\n",
        "\n",
        "    # Calculate word probabilities\n",
        "    word_probabilities = {word: count / total_words for word, count in word_counts.items()}\n",
        "\n",
        "    # Calculate entropy\n",
        "    entropy = -sum(prob * math.log2(prob) for prob in word_probabilities.values())\n",
        "\n",
        "    return entropy\n",
        "\n",
        "df['vocabulary_diversity'] = df['transcript'].apply(lambda x: calculate_entropy(x))\n",
        "print(df['vocabulary_diversity'].head())"
      ]
    },
    {
      "cell_type": "code",
      "execution_count": 125,
      "metadata": {
        "colab": {
          "base_uri": "https://localhost:8080/"
        },
        "id": "KGupzxSH5Fav",
        "outputId": "8a1562a3-61b9-4a90-b81b-f0e3ddac74f6"
      },
      "outputs": [
        {
          "output_type": "stream",
          "name": "stdout",
          "text": [
            "Highest vocabulary diversity:\n",
            "                           title  \\\n",
            "1146  A 40-year plan for energy   \n",
            "\n",
            "                                             transcript  vocabulary_diversity  \n",
            "1146  America's public energy conversation boils dow...              8.608245  \n",
            "\n",
            "Lowest vocabulary diversity:\n",
            "               title                   transcript  vocabulary_diversity\n",
            "146  My magic moves  (Applause)(Music)(Applause)              1.891061\n"
          ]
        }
      ],
      "source": [
        "# transcript with the highest and lowest vocabulary diversity\n",
        "print(\"Highest vocabulary diversity:\\n\", df[['title', 'transcript', 'vocabulary_diversity']].sort_values(by='vocabulary_diversity', ascending=False).head(1))\n",
        "print(\"\\nLowest vocabulary diversity:\\n\", df[['title', 'transcript', 'vocabulary_diversity']].sort_values(by='vocabulary_diversity').head(1))"
      ]
    },
    {
      "cell_type": "markdown",
      "metadata": {
        "id": "3XNQ32Po5Faw"
      },
      "source": [
        "### Sentiment/emotion analysis\n",
        "\n",
        "We use the audience ratings as a measure of of sentiment of the talks."
      ]
    },
    {
      "cell_type": "code",
      "execution_count": 126,
      "metadata": {
        "id": "Vp23kGuAQRAy"
      },
      "outputs": [],
      "source": [
        "# save the dataframe with linguistic features\n",
        "df.to_csv('/content/drive/MyDrive/Colab Notebooks/df.csv', index=False)"
      ]
    },
    {
      "cell_type": "code",
      "execution_count": 31,
      "metadata": {
        "id": "S1wl4TcAHsAz"
      },
      "outputs": [],
      "source": [
        "df = pd.read_csv('/content/drive/MyDrive/Colab Notebooks/df.csv')"
      ]
    },
    {
      "cell_type": "code",
      "source": [
        "df.columns"
      ],
      "metadata": {
        "colab": {
          "base_uri": "https://localhost:8080/"
        },
        "id": "wJEBAcmHbVhy",
        "outputId": "f9e91075-5231-4e0e-f7c0-137bb1850493"
      },
      "execution_count": 32,
      "outputs": [
        {
          "output_type": "execute_result",
          "data": {
            "text/plain": [
              "Index(['comments', 'description', 'duration', 'event', 'film_date',\n",
              "       'languages', 'main_speaker', 'name', 'num_speaker', 'published_date',\n",
              "       'related_talks', 'speaker_occupation', 'tags', 'title', 'url', 'views',\n",
              "       'transcript', 'film_datetime', 'published_datetime', 'Funny',\n",
              "       'Beautiful', 'Ingenious', 'Courageous', 'Longwinded', 'Confusing',\n",
              "       'Informative', 'Fascinating', 'Unconvincing', 'Persuasive',\n",
              "       'Jaw-dropping', 'OK', 'Obnoxious', 'Inspiring', 'month', 'year',\n",
              "       'popular', 'engagement_rate', 'engaging', 'num_words', 'words_per_sec',\n",
              "       'transcript_30s', 'similarity_score', 'distinctiveness',\n",
              "       'flesch_kincaid_grade_level', 'dale_chall_grade_level',\n",
              "       'vocabulary_diversity'],\n",
              "      dtype='object')"
            ]
          },
          "metadata": {},
          "execution_count": 32
        }
      ]
    },
    {
      "cell_type": "markdown",
      "metadata": {
        "id": "gCS5GX1M5Faw"
      },
      "source": [
        "## Predicting popularity using only linguistic features"
      ]
    },
    {
      "cell_type": "markdown",
      "metadata": {
        "id": "9VB5LBLieIQu"
      },
      "source": [
        "After defining the set of explainable linguistic features, we employ traditional ML models to predict the popularity and engagement rates.\n",
        "\n",
        "#### Splitting the data\n",
        "Once we have extracted the features, we split the data into train and test datasets.\n",
        "\n",
        "An essential consideration during this process is the presence of imbalanced target classes within the dataset, which could potentially impact the performance of our models.\n",
        "\n",
        "To address this imbalance, we create balanced datasets by taking a representative sample from the larger target classes, aligning their sizes with those of the smaller target classes. By doing so, we strive to mitigate the effects of class imbalance, fostering a more robust and fair learning environment for our classification models."
      ]
    },
    {
      "cell_type": "code",
      "execution_count": 149,
      "metadata": {
        "id": "b2oaimHDpF_v"
      },
      "outputs": [],
      "source": [
        "# define a dataset with the modeled linguistic features\n",
        "df = df[['duration', 'event', 'film_date', 'languages', 'num_speaker',\n",
        "       'tags', 'Funny', 'Beautiful', 'Ingenious', 'Courageous', 'Longwinded', 'Confusing',\n",
        "       'Informative', 'Fascinating', 'Unconvincing', 'Persuasive', 'Jaw-dropping', 'OK', 'Obnoxious',\n",
        "       'Inspiring', 'month', 'year', 'words_per_sec', 'similarity_score', 'distinctiveness',\n",
        "       'flesch_kincaid_grade_level', 'dale_chall_grade_level', 'vocabulary_diversity', 'popular', 'engaging']]"
      ]
    },
    {
      "cell_type": "code",
      "execution_count": 33,
      "metadata": {
        "id": "30vuEoEEXWqS"
      },
      "outputs": [],
      "source": [
        "from sklearn.model_selection import train_test_split\n",
        "\n",
        "# split to test and train - unbalanced classes\n",
        "train_ling, test_ling = train_test_split(df, test_size=0.2, random_state=42)\n",
        "train_ling.dropna(subset=['popular'], inplace=True)\n",
        "test_ling.dropna(subset=['popular'], inplace=True)\n",
        "\n",
        "# balance the dataset by sampling equal number of engaging and non-engaging talks\n",
        "df_engaging = df[df['engaging'] == 1]\n",
        "df_non_engaging = df[df['engaging'] == 0].sample(n=len(df_engaging), random_state=42)\n",
        "df_balanced_engaging = pd.concat([df_engaging, df_non_engaging])\n",
        "df_balanced_engaging.drop(['popular'], axis=1, inplace=True)\n",
        "train_engaging, test_engaging = train_test_split(df_balanced_engaging, test_size=0.2, random_state=42)\n",
        "\n",
        "# balance the dataset by sampling equal number of popular and non-popular talks\n",
        "df_popular = df[df['popular'] == 1]\n",
        "df_non_popular = df[df['popular'] == 0].sample(n=len(df_popular), random_state=42)\n",
        "df_balanced_popular = pd.concat([df_popular, df_non_popular])\n",
        "df_balanced_popular.drop(['engaging'], axis=1, inplace=True)\n",
        "train_popular, test_popular = train_test_split(df_balanced_popular, test_size=0.2, random_state=42)"
      ]
    },
    {
      "cell_type": "markdown",
      "metadata": {
        "id": "aDDMeJvYgcMH"
      },
      "source": [
        "### 1. Random Forest Classifier"
      ]
    },
    {
      "cell_type": "code",
      "execution_count": 155,
      "metadata": {
        "id": "veQJkIICgZq4"
      },
      "outputs": [],
      "source": [
        "from sklearn.metrics import confusion_matrix, fbeta_score\n",
        "from sklearn.model_selection import GridSearchCV\n",
        "from sklearn.metrics import make_scorer\n",
        "\n",
        "def train_predict(clf, parameters, x_train, x_test, y_train, y_test):\n",
        "\n",
        "    clf.fit(x_train, y_train)\n",
        "    scorer = make_scorer(fbeta_score, beta=1)\n",
        "\n",
        "    # 5-fold cross validation\n",
        "    grid_obj = GridSearchCV(clf, parameters, cv=5, scoring=scorer)\n",
        "    grid_fit = grid_obj.fit(x_train, y_train)\n",
        "    best_clf = grid_fit.best_estimator_\n",
        "    best_prob_train = best_clf.predict_proba(x_train)\n",
        "    best_prob = best_clf.predict_proba(x_test)\n",
        "    best_pred_train = (best_prob_train[:,1]>0.5)*1\n",
        "    best_pred = (best_prob[:,1]>0.5)*1\n",
        "\n",
        "    # Report results\n",
        "    print (clf.__class__.__name__ + \":\")\n",
        "    print (\"Accuracy score on training data (optimized by grid-search CV): {:.4f}\".format(best_clf.score(x_train, y_train)))\n",
        "    print (\"Accuracy score on testing data (optimized by grid-search CV): {:.4f}\".format(best_clf.score(x_test, y_test)))\n",
        "    print (\"F1-score on training data (optimized by grid-search CV): {:.4f}\".format(fbeta_score(y_train, best_pred_train, beta = 1)))\n",
        "    print (\"F1-score on testing data (optimized by grid-search CV): {:.4f}\".format(fbeta_score(y_test, best_pred, beta = 1)))\n",
        "    print (\"Parameters: \", grid_fit.best_params_)\n",
        "    print (\"Confusion Matrix:\\n\", confusion_matrix(y_test, best_pred))\n",
        "    return clf"
      ]
    },
    {
      "cell_type": "code",
      "execution_count": 177,
      "metadata": {
        "colab": {
          "base_uri": "https://localhost:8080/"
        },
        "id": "yz51AzdQjRvv",
        "outputId": "dd0fd3a9-b8f0-4c10-9856-c90943cf6270"
      },
      "outputs": [
        {
          "output_type": "stream",
          "name": "stdout",
          "text": [
            "Random forest classifier using only linguistic features to predict popularity: \n",
            "\n",
            "RandomForestClassifier:\n",
            "Accuracy score on training data (optimized by grid-search CV): 0.9944\n",
            "Accuracy score on testing data (optimized by grid-search CV): 0.9008\n",
            "F1-score on training data (optimized by grid-search CV): 0.9889\n",
            "F1-score on testing data (optimized by grid-search CV): 0.7721\n",
            "Parameters:  {'max_features': 'log2', 'min_samples_split': 4, 'n_estimators': 20}\n",
            "Confusion Matrix:\n",
            " [[362  13]\n",
            " [ 36  83]]\n",
            "\n",
            "Random forest classifier using only linguistic features to predict engagement: \n",
            "\n",
            "RandomForestClassifier:\n",
            "Accuracy score on training data (optimized by grid-search CV): 0.9853\n",
            "Accuracy score on testing data (optimized by grid-search CV): 0.7996\n",
            "F1-score on training data (optimized by grid-search CV): 0.9691\n",
            "F1-score on testing data (optimized by grid-search CV): 0.5171\n",
            "Parameters:  {'max_features': 'log2', 'min_samples_split': 5, 'n_estimators': 12}\n",
            "Confusion Matrix:\n",
            " [[342  22]\n",
            " [ 77  53]]\n",
            "\n",
            "Random forest classifier using only linguistic features to predict popularity on the balanced dataset: \n",
            "\n",
            "RandomForestClassifier:\n",
            "Accuracy score on training data (optimized by grid-search CV): 0.9909\n",
            "Accuracy score on testing data (optimized by grid-search CV): 0.8462\n",
            "F1-score on training data (optimized by grid-search CV): 0.9907\n",
            "F1-score on testing data (optimized by grid-search CV): 0.8561\n",
            "Parameters:  {'max_features': 'log2', 'min_samples_split': 6, 'n_estimators': 16}\n",
            "Confusion Matrix:\n",
            " [[ 96  17]\n",
            " [ 21 113]]\n",
            "\n",
            "Random forest classifier using only linguistic features to predict engagement on the balanced dataset: \n",
            "\n",
            "RandomForestClassifier:\n",
            "Accuracy score on training data (optimized by grid-search CV): 0.9888\n",
            "Accuracy score on testing data (optimized by grid-search CV): 0.8089\n",
            "F1-score on training data (optimized by grid-search CV): 0.9886\n",
            "F1-score on testing data (optimized by grid-search CV): 0.8209\n",
            "Parameters:  {'max_features': 'log2', 'min_samples_split': 6, 'n_estimators': 20}\n",
            "Confusion Matrix:\n",
            " [[ 88  23]\n",
            " [ 25 110]]\n"
          ]
        }
      ],
      "source": [
        "from sklearn.ensemble import RandomForestClassifier\n",
        "\n",
        "clf = RandomForestClassifier(random_state = 108)\n",
        "parameters = {'n_estimators': range(10,21,2), 'max_features': ['log2'], 'min_samples_split': range(3, 7)}\n",
        "\n",
        "# Random Forest using linguistic features to predict popularity\n",
        "print(\"Random forest classifier using only linguistic features to predict popularity: \\n\")\n",
        "clf1 = train_predict(clf, parameters, train_ling.iloc[:, :-2], test_ling.iloc[:, :-2], train_ling['popular'], test_ling['popular'])\n",
        "\n",
        "# Random Forest using linguistic features to predict engagement rate\n",
        "print(\"\\nRandom forest classifier using only linguistic features to predict engagement: \\n\")\n",
        "clf2 = train_predict(clf, parameters, train_ling.iloc[:, :-2], test_ling.iloc[:, :-2], train_ling['engaging'], test_ling['engaging'])\n",
        "\n",
        "# Random Forest using linguistic features to predict popularity on a balanced dataset\n",
        "print(\"\\nRandom forest classifier using only linguistic features to predict popularity on the balanced dataset: \\n\")\n",
        "clf3 = train_predict(clf, parameters, train_popular.iloc[:, :-1], test_popular.iloc[:, :-1], train_popular['popular'], test_popular['popular'])\n",
        "\n",
        "# Random Forest using linguistic features to predict engagement rate on a balanced dataset\n",
        "print(\"\\nRandom forest classifier using only linguistic features to predict engagement on the balanced dataset: \\n\")\n",
        "clf4 = train_predict(clf, parameters, train_engaging.iloc[:, :-1], test_engaging.iloc[:, :-1], train_engaging['engaging'], test_engaging['engaging'])"
      ]
    },
    {
      "cell_type": "markdown",
      "source": [
        "For both popularity and engagement rate, random forest classifier performs quite well using only the linguistic features.\n",
        "\n",
        "It is interesting to compare the results on the balanced vs unbalanced datasets. As assumed, if the model is trained on a highly imbalanced dataset, the model tends create a lot of false negatives, as the negative class is the dominant one. That's why F1 score is significantly higher on the balanced dataset, suggesting a balance between precision and recall.\n",
        "\n",
        "Further on we continue the analysis using only the balanced dataset."
      ],
      "metadata": {
        "id": "ohsyKsv_k7YI"
      }
    },
    {
      "cell_type": "code",
      "source": [
        "sns.set_style('whitegrid')\n",
        "sns.set_palette('husl')\n",
        "plt.figure(figsize=(8, 6))\n",
        "sns.barplot(x=clf3.feature_importances_, y=test_popular.iloc[:, :-1].columns)\n",
        "plt.title('Feature importance')\n",
        "plt.show()\n",
        "\n",
        "plt.figure(figsize=(8, 6))\n",
        "sns.barplot(x=clf4.feature_importances_, y=test_engaging.iloc[:, :-1].columns)\n",
        "plt.title('Feature importance')\n",
        "plt.show()"
      ],
      "metadata": {
        "colab": {
          "base_uri": "https://localhost:8080/",
          "height": 1000
        },
        "id": "t9lf7HRtiT-j",
        "outputId": "b835453e-1c16-4cd8-e738-123209ed5ae1"
      },
      "execution_count": 178,
      "outputs": [
        {
          "output_type": "display_data",
          "data": {
            "text/plain": [
              "<Figure size 800x600 with 1 Axes>"
            ],
            "image/png": "[encoded data removed]"
          },
          "metadata": {}
        },
        {
          "output_type": "display_data",
          "data": {
            "text/plain": [
              "<Figure size 800x600 with 1 Axes>"
            ],
            "image/png": "[encoded data removed]"
          },
          "metadata": {}
        }
      ]
    },
    {
      "cell_type": "markdown",
      "metadata": {
        "id": "WNFTIoEUgiyN"
      },
      "source": [
        "The two plots show the feature importance for popularity/engagement prediction on the balanced dataset. film_date and year are the most significant, probably because the longer the video has been online, more likely it is that it has a lot of views and comments.\n",
        "Ratings 'Funny' and 'Unconvincing' are shown to be significant for the popularity, 'Funny' is probably positively and 'Unconvincing' negatively correlated.\n",
        "Number of speakers shows the least significance, probably because people are more interested in the content of the talk itself regardless of the number of speakers."
      ]
    },
    {
      "cell_type": "markdown",
      "metadata": {
        "id": "dWOsadnd0YJR"
      },
      "source": [
        "### 2. Naive Bayes"
      ]
    },
    {
      "cell_type": "code",
      "execution_count": 180,
      "metadata": {
        "colab": {
          "base_uri": "https://localhost:8080/"
        },
        "id": "EBkR7cdM0bDP",
        "outputId": "64c82cf6-e306-4e0d-8998-0420a0c3a3e1"
      },
      "outputs": [
        {
          "output_type": "stream",
          "name": "stdout",
          "text": [
            "\n",
            "Naive Bayes classifier using only linguistic features to predict popularity on the balanced dataset: \n",
            "\n",
            "GaussianNB:\n",
            "Accuracy score on training data (optimized by grid-search CV): 0.5441\n",
            "Accuracy score on testing data (optimized by grid-search CV): 0.5223\n",
            "F1-score on training data (optimized by grid-search CV): 0.1313\n",
            "F1-score on testing data (optimized by grid-search CV): 0.2133\n",
            "Parameters:  {}\n",
            "Confusion Matrix:\n",
            " [[113   0]\n",
            " [118  16]]\n",
            "\n",
            "Naive Bayes classifier using only linguistic features to predict engagement on the balanced dataset: \n",
            "\n",
            "GaussianNB:\n",
            "Accuracy score on training data (optimized by grid-search CV): 0.6701\n",
            "Accuracy score on testing data (optimized by grid-search CV): 0.7520\n",
            "F1-score on training data (optimized by grid-search CV): 0.7038\n",
            "F1-score on testing data (optimized by grid-search CV): 0.7904\n",
            "Parameters:  {}\n",
            "Confusion Matrix:\n",
            " [[ 70  41]\n",
            " [ 20 115]]\n"
          ]
        }
      ],
      "source": [
        "from sklearn.naive_bayes import GaussianNB\n",
        "\n",
        "clf2 = GaussianNB()\n",
        "parameters={}\n",
        "\n",
        "# Naive Bayes using linguistic features to predict popularity on a balanced dataset\n",
        "print(\"\\nNaive Bayes classifier using only linguistic features to predict popularity on the balanced dataset: \\n\")\n",
        "clf3 = train_predict(clf2, parameters, train_popular.iloc[:, :-1], test_popular.iloc[:, :-1], train_popular['popular'], test_popular['popular'])\n",
        "\n",
        "# Naive Bayes using linguistic features to predict engagement rate on a balanced dataset\n",
        "print(\"\\nNaive Bayes classifier using only linguistic features to predict engagement on the balanced dataset: \\n\")\n",
        "clf4 = train_predict(clf2, parameters, train_engaging.iloc[:, :-1], test_engaging.iloc[:, :-1], train_engaging['engaging'], test_engaging['engaging'])"
      ]
    },
    {
      "cell_type": "markdown",
      "metadata": {
        "id": "tB3DtM1yibtj"
      },
      "source": [
        "### 3. K-Nearest Neighbours\n"
      ]
    },
    {
      "cell_type": "code",
      "execution_count": 183,
      "metadata": {
        "colab": {
          "base_uri": "https://localhost:8080/"
        },
        "id": "JWsw5bTaxbao",
        "outputId": "48983297-9cce-4e58-db78-81210a72a22a"
      },
      "outputs": [
        {
          "output_type": "stream",
          "name": "stdout",
          "text": [
            "\n",
            "Logistic Regression classifier using only linguistic features to predict popularity on the balanced dataset: \n",
            "\n",
            "KNeighborsClassifier:\n",
            "Accuracy score on training data (optimized by grid-search CV): 0.7325\n",
            "Accuracy score on testing data (optimized by grid-search CV): 0.6113\n",
            "F1-score on training data (optimized by grid-search CV): 0.7130\n",
            "F1-score on testing data (optimized by grid-search CV): 0.6444\n",
            "Parameters:  {'n_neighbors': 7}\n",
            "Confusion Matrix:\n",
            " [[64 49]\n",
            " [47 87]]\n",
            "\n",
            "Logistic Regression classifier using only linguistic features to predict engagement on the balanced dataset: \n",
            "\n",
            "KNeighborsClassifier:\n",
            "Accuracy score on training data (optimized by grid-search CV): 0.7332\n",
            "Accuracy score on testing data (optimized by grid-search CV): 0.7073\n",
            "F1-score on training data (optimized by grid-search CV): 0.7369\n",
            "F1-score on testing data (optimized by grid-search CV): 0.7209\n",
            "Parameters:  {'n_neighbors': 9}\n",
            "Confusion Matrix:\n",
            " [[81 30]\n",
            " [42 93]]\n"
          ]
        }
      ],
      "source": [
        "from sklearn.neighbors import KNeighborsClassifier\n",
        "\n",
        "clf3 = KNeighborsClassifier()\n",
        "parameters = {'n_neighbors': range(1, 11)}\n",
        "\n",
        "# KNN using linguistic features to predict popularity on a balanced dataset\n",
        "print(\"\\nKNN classifier using only linguistic features to predict popularity on the balanced dataset: \\n\")\n",
        "clf3 = train_predict(clf3, parameters, train_popular.iloc[:, :-1], test_popular.iloc[:, :-1], train_popular['popular'], test_popular['popular'])\n",
        "\n",
        "# KNN using linguistic features to predict engagement rate on a balanced dataset\n",
        "print(\"\\nKNN classifier using only linguistic features to predict engagement on the balanced dataset: \\n\")\n",
        "clf4 = train_predict(clf3, parameters, train_engaging.iloc[:, :-1], test_engaging.iloc[:, :-1], train_engaging['engaging'], test_engaging['engaging'])"
      ]
    },
    {
      "cell_type": "markdown",
      "source": [
        "Random forest classifier outperforms Gaussian Naive Bayes and KNN with 90.08% accuracy on the complete dataset and 84.62% on the balanced dataset for popularity prediction, and 79.96% on the complete and 80.89% on the balanced dataset for engagement rate prediction."
      ],
      "metadata": {
        "id": "_nSbFnmwwuJ1"
      }
    },
    {
      "cell_type": "markdown",
      "source": [
        "## Predicting popularity based on transcripts using BERT\n",
        "\n",
        "In this section, the objective is to forecast both popularity and engagement relying only on the transcripts of the talks. However, due to BERT's token length restriction set to 512, and given that our transcripts often exceed this limit, we adopted a proven approach highlighted in this [paper](https://arxiv.org/abs/1905.05583). The strategy involves cutting out the middle part of the text instead of truncating either the beginning or the end. This specific approach has demonstrated superior performance, even surpassing more complex \"hierarchical\" methods involving breaking the text into chunks and then recombining the results."
      ],
      "metadata": {
        "id": "HIfF6QOyD2_L"
      }
    },
    {
      "cell_type": "code",
      "execution_count": null,
      "metadata": {
        "colab": {
          "base_uri": "https://localhost:8080/"
        },
        "id": "XGWpN80tSVoV",
        "outputId": "a90fc7d4-8bbc-4a71-f509-fe316033a2f1"
      },
      "outputs": [
        {
          "data": {
            "text/plain": [
              "0    4553[SEP]1164[SEP]36[SEP]1140825600[SEP]60[SEP...\n",
              "1    265[SEP]977[SEP]36[SEP]1140825600[SEP]43[SEP]A...\n",
              "2    124[SEP]1286[SEP]36[SEP]1140739200[SEP]26[SEP]...\n",
              "3    200[SEP]1116[SEP]36[SEP]1140912000[SEP]35[SEP]...\n",
              "4    593[SEP]1190[SEP]36[SEP]1140566400[SEP]48[SEP]...\n",
              "dtype: object"
            ]
          },
          "execution_count": 12,
          "metadata": {},
          "output_type": "execute_result"
        }
      ],
      "source": [
        "# concatenate all the features in df and separate them with \"[SEP]\" except popularity, engagement, views, transcript\n",
        "df_concat = df.copy()\n",
        "df_concat.drop(['popular', 'engaging', 'views', 'transcript', 'url', 'description'], axis=1, inplace=True)\n",
        "concatenated_features = df_concat[df_concat.columns[0:]].apply(lambda x: '[SEP] '.join(x.astype(str)), axis=1)\n",
        "# concatenate the features with the transcript separated by \".\"\n",
        "# df['transcript'] = df['transcript'].apply(lambda x: '[CLS] ' + x)\n",
        "# concatenated_features = pd.concat([concatenated_features, df['transcript']], axis=1)\n",
        "# concatenated_features = concatenated_features[concatenated_features.columns[0:]].apply(lambda x: '[SEP]'.join(x.astype(str)), axis=1)\n",
        "concatenated_features.head()"
      ]
    },
    {
      "cell_type": "code",
      "execution_count": 42,
      "metadata": {
        "id": "cOhp7EcKDvc3"
      },
      "outputs": [],
      "source": [
        "# us only the middle part of each transcript\n",
        "transcript_middle = df.apply(lambda row: ' '.join(row['transcript'].split()[int(len(row['transcript'].split()) / 4):int(len(row['transcript'].split()) / 4) + int(len(row['transcript'].split()) / 2)]), axis=1)"
      ]
    },
    {
      "cell_type": "code",
      "source": [
        "transcript_middle.head()"
      ],
      "metadata": {
        "colab": {
          "base_uri": "https://localhost:8080/"
        },
        "id": "wM53_J8vI4wr",
        "outputId": "445402d5-4dae-42cc-864c-c3f7dbe72630"
      },
      "execution_count": 26,
      "outputs": [
        {
          "output_type": "execute_result",
          "data": {
            "text/plain": [
              "0    boy said, \"I bring you myrrh.\" And the third b...\n",
              "1    out to be, was that my staff was extremely ups...\n",
              "2    typing 11?\" He said, \"The message says, 'Error...\n",
              "3    are striving for solutions that won't compromi...\n",
              "4    the life expectancy of the African countries a...\n",
              "dtype: object"
            ]
          },
          "metadata": {},
          "execution_count": 26
        }
      ]
    },
    {
      "cell_type": "code",
      "execution_count": 13,
      "metadata": {
        "colab": {
          "base_uri": "https://localhost:8080/",
          "height": 232,
          "referenced_widgets": [
            "0e98f8b73dca4410942d7136ee7177dd",
            "fdd7c0c957e3496fa2daf1e1eb996e6b",
            "a25fd16473f44ec3a307da58ed9158e9",
            "addd9df3afe6449f9d4d376921eddb5d",
            "f6a92cb7f03f4e5c9350c4ed97de918d",
            "e2c75c7afc3d432ebd5534ff17be2f0b",
            "2b7411750b574ae6af76a5ae5ac3d36b",
            "d4538e4c020b4dc9946bdfe168b43e17",
            "75d5070471cc429681c3319bed471a69",
            "3597eb3ab24b47a9b7f89911c2103844",
            "30c421676b8f4f408b9dd2501319fb80",
            "a3292c1a0b9d45769ed966f621a05b99",
            "b44fb910755d487999921bb70dd7146c",
            "73c04959b75d4ed38b8da92c63326051",
            "954f7542d17548ca901bf96c0e60d4f0",
            "953bfa32043442fabeceb8902d601ba1",
            "31cf81b2e92d4e50998572588898a6ad",
            "a2c0cfc40d2442148804d987c7c7afd1",
            "98736ed6026e42578ecee10e6861469c",
            "9ea0376b3453407ab3071c850a66c983",
            "3165fd01a9be4aa39220715892f71aff",
            "6204f9481db1433499ab3adffa34eb2f",
            "de30b9dc335642f9a0a56240fb15a1a9",
            "43043565e8c34b8cb71bd368d7145166",
            "98516b34e1e34154b1b455f3de1a7c45",
            "b220371ee5bb4b11bea5b761afc18551",
            "1b436c9d4e4d4465bf916d75dbbe6a6a",
            "b14815ec37e84e0c843c68c91402bbb9",
            "5f1bf629e46a464ebc53a039075af084",
            "bfd2bd165b8048329d49f929697c8a69",
            "16c2c7ba861e4683920761a18d779fc6",
            "af3a4ed93c984b1082680f881b761c5b",
            "2937c99e3c82413293b71507a3f0328a",
            "1dff2c7efcba4ef6974874650dd8bf7e",
            "4089c856434d488493e8cb66ef77c99a",
            "534e6b3663fb4820b523a74325c3bde3",
            "e7c6f83c003349a98830229bbc987374",
            "4657bbbc5fba433595af16c40d572c54",
            "b08e938abc6045fdb743e055a3cec7ea",
            "1a5bcae696f94d20867cdd621a314843",
            "b940f6b6aa064714ab206d58e6fda810",
            "61f1cd93877f45efa306b891db17f096",
            "2588a0f87368437599376532d2fd7abf",
            "1aa4f31bdb4646ef970a7922b3eb9be9",
            "e5136d06053a4e9f8ebd12ec62f6138a",
            "bd155fa035e14aed845085890dfa58b9",
            "2778f8913880496aa40d1dc2f3102cfa",
            "1b720d4a2ff643db86a17e16fc2e5647",
            "dbc9b89490824868b90c30a8bc3f0ed6",
            "1601127d36144777b0d44a5af3e7dc8c",
            "9045668246c047b7b514ab6af1320d61",
            "d96010cba10a4c1a8f4baad50fccbe8d",
            "5362cf5f8beb4a75b9d131f5e1237004",
            "982ab1dbb0b64badb8493ecfcf923be7",
            "a6f51e7fc62b41b89e095f7da6377fc3"
          ]
        },
        "id": "iyxYbLsBSZ-D",
        "outputId": "59f6524c-8b05-44cb-b2c0-2381e0728687"
      },
      "outputs": [
        {
          "output_type": "stream",
          "name": "stdout",
          "text": [
            "No GPU available, using the CPU instead.\n"
          ]
        },
        {
          "output_type": "display_data",
          "data": {
            "text/plain": [
              "tokenizer_config.json:   0%|          | 0.00/28.0 [00:00<?, ?B/s]"
            ],
            "application/vnd.jupyter.widget-view+json": {
              "version_major": 2,
              "version_minor": 0,
              "model_id": "0e98f8b73dca4410942d7136ee7177dd"
            }
          },
          "metadata": {}
        },
        {
          "output_type": "display_data",
          "data": {
            "text/plain": [
              "vocab.txt:   0%|          | 0.00/232k [00:00<?, ?B/s]"
            ],
            "application/vnd.jupyter.widget-view+json": {
              "version_major": 2,
              "version_minor": 0,
              "model_id": "a3292c1a0b9d45769ed966f621a05b99"
            }
          },
          "metadata": {}
        },
        {
          "output_type": "display_data",
          "data": {
            "text/plain": [
              "tokenizer.json:   0%|          | 0.00/466k [00:00<?, ?B/s]"
            ],
            "application/vnd.jupyter.widget-view+json": {
              "version_major": 2,
              "version_minor": 0,
              "model_id": "de30b9dc335642f9a0a56240fb15a1a9"
            }
          },
          "metadata": {}
        },
        {
          "output_type": "display_data",
          "data": {
            "text/plain": [
              "config.json:   0%|          | 0.00/570 [00:00<?, ?B/s]"
            ],
            "application/vnd.jupyter.widget-view+json": {
              "version_major": 2,
              "version_minor": 0,
              "model_id": "1dff2c7efcba4ef6974874650dd8bf7e"
            }
          },
          "metadata": {}
        },
        {
          "output_type": "display_data",
          "data": {
            "text/plain": [
              "model.safetensors:   0%|          | 0.00/440M [00:00<?, ?B/s]"
            ],
            "application/vnd.jupyter.widget-view+json": {
              "version_major": 2,
              "version_minor": 0,
              "model_id": "e5136d06053a4e9f8ebd12ec62f6138a"
            }
          },
          "metadata": {}
        },
        {
          "output_type": "stream",
          "name": "stderr",
          "text": [
            "Some weights of BertForSequenceClassification were not initialized from the model checkpoint at bert-base-uncased and are newly initialized: ['classifier.weight', 'classifier.bias']\n",
            "You should probably TRAIN this model on a down-stream task to be able to use it for predictions and inference.\n"
          ]
        }
      ],
      "source": [
        "from transformers import BertTokenizer, BertForSequenceClassification\n",
        "import torch\n",
        "\n",
        "if torch.cuda.is_available():\n",
        "    device = torch.device(\"cuda\")\n",
        "else:\n",
        "    print('No GPU available, using the CPU instead.')\n",
        "    device = torch.device(\"cpu\")\n",
        "\n",
        "tokenizer = BertTokenizer.from_pretrained('bert-base-uncased', do_lower_case=True)\n",
        "\n",
        "model = BertForSequenceClassification.from_pretrained(\n",
        "    \"bert-base-uncased\", # Use the 12-layer BERT model, with an uncased vocab.\n",
        "    num_labels = 2, # The number of output labels--2 for binary classification.\n",
        ")"
      ]
    },
    {
      "cell_type": "code",
      "execution_count": 14,
      "metadata": {
        "id": "pGX5D8jMSbU2"
      },
      "outputs": [],
      "source": [
        "# Tokenize all of the sentences and map the tokens to their word IDs.\n",
        "import torch\n",
        "\n",
        "input_ids = []\n",
        "attention_masks = []\n",
        "max_len = 512\n",
        "\n",
        "# Larger batch sizes tend to be better, and we can fit this in memory.\n",
        "batch_size = 32\n",
        "learning_rate = 1e-5\n",
        "epochs = 4\n",
        "\n",
        "tokenizer = BertTokenizer.from_pretrained('bert-base-uncased', do_lower_case=True)\n",
        "\n",
        "# For every sentence:\n",
        "for sent in transcript_middle:\n",
        "    #   (1) Tokenize the sentence.\n",
        "    #   (2) Prepend the `[CLS]` token to the start.\n",
        "    #   (3) Append the `[SEP]` token to the end.\n",
        "    #   (4) Map tokens to their IDs.\n",
        "    #   (5) Pad or truncate the sentence to `max_length`\n",
        "    #   (6) Create attention masks for [PAD] tokens.\n",
        "    encoded_dict = tokenizer.encode_plus(\n",
        "                        sent,\n",
        "                        add_special_tokens = True,\n",
        "                        max_length = max_len,\n",
        "                        truncation = True,\n",
        "                        padding = 'max_length',\n",
        "                        return_attention_mask = True,\n",
        "                        return_tensors = 'pt')\n",
        "\n",
        "    input_ids.append(encoded_dict['input_ids'])\n",
        "    attention_masks.append(encoded_dict['attention_mask'])\n",
        "\n",
        "# Convert the lists into tensors\n",
        "input_ids = torch.cat(input_ids, dim=0)\n",
        "attention_masks = torch.cat(attention_masks, dim=0)\n",
        "\n",
        "labels_popular = torch.tensor(df['popular'].values)\n",
        "labels_engaging = torch.tensor(df['engaging'].values)"
      ]
    },
    {
      "cell_type": "code",
      "execution_count": 8,
      "metadata": {
        "colab": {
          "base_uri": "https://localhost:8080/"
        },
        "id": "YubkNX01SnDN",
        "outputId": "e618d669-0a26-4e2a-e741-cac417ca15ca"
      },
      "outputs": [
        {
          "output_type": "stream",
          "name": "stdout",
          "text": [
            "  Training size: 1,973\n",
            "Validation size: 246\n",
            "      Test size: 248\n"
          ]
        },
        {
          "output_type": "stream",
          "name": "stderr",
          "text": [
            "/usr/local/lib/python3.10/dist-packages/transformers/optimization.py:411: FutureWarning: This implementation of AdamW is deprecated and will be removed in a future version. Use the PyTorch implementation torch.optim.AdamW instead, or set `no_deprecation_warning=True` to disable this warning\n",
            "  warnings.warn(\n"
          ]
        }
      ],
      "source": [
        "import random\n",
        "import numpy as np\n",
        "from torch.utils.data import TensorDataset,DataLoader, RandomSampler, SequentialSampler\n",
        "from transformers import AdamW, get_linear_schedule_with_warmup\n",
        "\n",
        "# First, calculate the split sizes. 80% training, 10% validation, 10% test.\n",
        "train_size = int(0.8 * len(df))\n",
        "val_size = int(0.1 * len(df))\n",
        "test_size = len(df) - (train_size + val_size)\n",
        "\n",
        "# Sanity check the sizes\n",
        "assert((train_size + val_size + test_size) == len(df))\n",
        "\n",
        "# Create a list of indeces for all of the samples in the dataset.\n",
        "indeces = np.arange(0, len(df))\n",
        "\n",
        "# Shuffle the indeces randomly.\n",
        "random.shuffle(indeces)\n",
        "\n",
        "# Get a list of indeces for each of the splits.\n",
        "train_idx = indeces[0:train_size]\n",
        "val_idx = indeces[train_size:(train_size + val_size)]\n",
        "test_idx = indeces[(train_size + val_size):]\n",
        "\n",
        "# Sanity check\n",
        "assert(len(train_idx) == train_size)\n",
        "assert(len(test_idx) == test_size)\n",
        "\n",
        "\n",
        "print('  Training size: {:,}'.format(train_size))\n",
        "print('Validation size: {:,}'.format(val_size))\n",
        "print('      Test size: {:,}'.format(test_size))\n",
        "\n",
        "# Split the samples, and create TensorDatasets for each split for both target values.\n",
        "train_dataset_popular = TensorDataset(input_ids[train_idx], attention_masks[train_idx], labels_popular[train_idx])\n",
        "val_dataset_popular = TensorDataset(input_ids[val_idx], attention_masks[val_idx], labels_popular[val_idx])\n",
        "test_dataset_popular = TensorDataset(input_ids[test_idx], attention_masks[test_idx], labels_popular[test_idx])\n",
        "\n",
        "train_dataset_engaging = TensorDataset(input_ids[train_idx], attention_masks[train_idx], labels_engaging[train_idx])\n",
        "val_dataset_engaging = TensorDataset(input_ids[val_idx], attention_masks[val_idx], labels_engaging[val_idx])\n",
        "test_dataset_engaging = TensorDataset(input_ids[test_idx], attention_masks[test_idx], labels_engaging[test_idx])\n",
        "\n",
        "# Create the DataLoaders for our training and validation sets.\n",
        "# We'll take training samples in random order.\n",
        "train_dataloader_popular = DataLoader(\n",
        "            train_dataset_popular,\n",
        "            sampler = RandomSampler(train_dataset_popular),\n",
        "            batch_size = batch_size\n",
        "        )\n",
        "train_dataloader_engaging = DataLoader(\n",
        "            train_dataset_popular,\n",
        "            sampler = RandomSampler(train_dataset_engaging),\n",
        "            batch_size = batch_size\n",
        "        )\n",
        "\n",
        "# For validation the order doesn't matter, so we'll just read them sequentially.\n",
        "validation_dataloader_popular = DataLoader(\n",
        "            val_dataset_popular,\n",
        "            sampler = SequentialSampler(val_dataset_popular),\n",
        "            batch_size = batch_size\n",
        "        )\n",
        "validation_dataloader_engaging = DataLoader(\n",
        "            val_dataset_engaging,\n",
        "            sampler = SequentialSampler(val_dataset_engaging),\n",
        "            batch_size = batch_size\n",
        "        )\n",
        "\n",
        "optimizer = AdamW(model.parameters(),\n",
        "                  lr = learning_rate,\n",
        "                  eps = 1e-8\n",
        "                )\n",
        "total_steps = len(train_dataloader_popular) * epochs\n",
        "\n",
        "# Create the learning rate scheduler.\n",
        "scheduler = get_linear_schedule_with_warmup(optimizer,\n",
        "                                            num_warmup_steps = 0,\n",
        "                                            num_training_steps = total_steps)"
      ]
    },
    {
      "cell_type": "code",
      "execution_count": 7,
      "metadata": {
        "id": "GQjmd8HiTRr9"
      },
      "outputs": [],
      "source": [
        "import numpy as np\n",
        "import time\n",
        "import datetime\n",
        "\n",
        "# Function to calculate the accuracy of our predictions vs labels\n",
        "def flat_accuracy(preds, labels):\n",
        "    pred_flat = np.argmax(preds, axis=1).flatten()\n",
        "    labels_flat = labels.flatten()\n",
        "    return np.sum(pred_flat == labels_flat) / len(labels_flat)\n",
        "\n",
        "def format_time(elapsed):\n",
        "    '''\n",
        "    Takes a time in seconds and returns a string hh:mm:ss\n",
        "    '''\n",
        "    # Round to the nearest second.\n",
        "    elapsed_rounded = int(round((elapsed)))\n",
        "\n",
        "    # Format as hh:mm:ss\n",
        "    return str(datetime.timedelta(seconds=elapsed_rounded))\n"
      ]
    },
    {
      "cell_type": "code",
      "execution_count": 8,
      "metadata": {
        "id": "qO7AsqveToDM"
      },
      "outputs": [],
      "source": [
        "import random\n",
        "import numpy as np\n",
        "from sklearn.metrics import classification_report\n",
        "\n",
        "# This training code is based on the `run_glue.py` script here:\n",
        "# https://github.com/huggingface/transformers/blob/5bfcd0485ece086ebcbed2d008813037968a9e58/examples/run_glue.py#L128\n",
        "\n",
        "# wrap the training into a function\n",
        "\n",
        "def train_model(train_dataloader, validation_dataloader):\n",
        "\n",
        "  # Set the seed value all over the place to make this reproducible.\n",
        "  seed_val = 42\n",
        "\n",
        "  random.seed(seed_val)\n",
        "  np.random.seed(seed_val)\n",
        "  torch.manual_seed(seed_val)\n",
        "  torch.cuda.manual_seed_all(seed_val)\n",
        "\n",
        "  training_stats = []\n",
        "\n",
        "  # Measure the total training time for the whole run.\n",
        "  total_t0 = time.time()\n",
        "\n",
        "  for epoch_i in range(0, epochs):\n",
        "\n",
        "      print(\"\")\n",
        "      print('======== Epoch {:} / {:} ========'.format(epoch_i + 1, epochs))\n",
        "      print('Training...')\n",
        "\n",
        "      # Measure how long the training epoch takes.\n",
        "      t0 = time.time()\n",
        "\n",
        "      # Reset the total loss for this epoch.\n",
        "      total_train_loss = 0\n",
        "\n",
        "      model.train()\n",
        "\n",
        "      # For each batch of training data...\n",
        "      for step, batch in enumerate(train_dataloader):\n",
        "\n",
        "          # Progress update every 40 batches.\n",
        "          if step % 40 == 0 and not step == 0:\n",
        "              # Calculate elapsed time in minutes.\n",
        "              elapsed = format_time(time.time() - t0)\n",
        "\n",
        "              # Report progress.\n",
        "              print('  Batch {:>5,}  of  {:>5,}.    Elapsed: {:}.'.format(step, len(train_dataloader), elapsed))\n",
        "\n",
        "          # Unpack this training batch from our dataloader.\n",
        "          # `batch` contains four pytorch tensors:\n",
        "          #   [0]: input ids\n",
        "          #   [1]: attention masks\n",
        "          #   [2]: labels_popular\n",
        "          b_input_ids = batch[0].to(device)\n",
        "          b_input_mask = batch[1].to(device)\n",
        "          b_labels = batch[2].to(device)\n",
        "\n",
        "          model.zero_grad()\n",
        "\n",
        "          result = model(b_input_ids,\n",
        "                        token_type_ids=None,\n",
        "                        attention_mask=b_input_mask,\n",
        "                        labels=b_labels,\n",
        "                        return_dict=True)\n",
        "\n",
        "          loss = result.loss\n",
        "          logits = result.logits\n",
        "\n",
        "          # Accumulate the training loss over all of the batches\n",
        "          total_train_loss += loss.item()\n",
        "\n",
        "          # Perform a backward pass to calculate the gradients.\n",
        "          loss.backward()\n",
        "\n",
        "          # Clip the norm of the gradients to 1.0.\n",
        "          # This is to help prevent the \"exploding gradients\" problem.\n",
        "          torch.nn.utils.clip_grad_norm_(model.parameters(), 1.0)\n",
        "\n",
        "          # Update parameters and take a step using the computed gradient.\n",
        "          optimizer.step()\n",
        "\n",
        "          # Update the learning rate.\n",
        "          scheduler.step()\n",
        "\n",
        "      # Calculate the average loss over all of the batches.\n",
        "      avg_train_loss = total_train_loss / len(train_dataloader)\n",
        "\n",
        "      # Measure how long this epoch took.\n",
        "      training_time = format_time(time.time() - t0)\n",
        "\n",
        "      print(\"\")\n",
        "      print(\"  Average training loss: {0:.2f}\".format(avg_train_loss))\n",
        "      print(\"  Training epcoh took: {:}\".format(training_time))\n",
        "\n",
        "      print(\"\")\n",
        "      print(\"Running Validation...\")\n",
        "\n",
        "      t0 = time.time()\n",
        "\n",
        "      # Put the model in evaluation mode--the dropout layers behave differently during evaluation.\n",
        "      model.eval()\n",
        "\n",
        "      # Tracking variables\n",
        "      total_eval_accuracy = 0\n",
        "      total_eval_loss = 0\n",
        "      nb_eval_steps = 0\n",
        "\n",
        "      # Evaluate data for one epoch\n",
        "      for batch in validation_dataloader:\n",
        "\n",
        "          b_input_ids = batch[0].to(device)\n",
        "          b_input_mask = batch[1].to(device)\n",
        "          b_labels = batch[2].to(device)\n",
        "\n",
        "          # Tell pytorch not to bother with constructing the compute graph during\n",
        "          # the forward pass, since this is only needed for backprop (training).\n",
        "          with torch.no_grad():\n",
        "\n",
        "              # Forward pass, calculate logit predictions.\n",
        "              result = model(b_input_ids,\n",
        "                            token_type_ids=None,\n",
        "                            attention_mask=b_input_mask,\n",
        "                            labels=b_labels,\n",
        "                            return_dict=True)\n",
        "\n",
        "          # Get the loss and \"logits\" output by the model. The \"logits\" are the\n",
        "          # output values prior to applying an activation function like the\n",
        "          # softmax.\n",
        "          loss = result.loss\n",
        "          logits = result.logits\n",
        "\n",
        "          # Accumulate the validation loss.\n",
        "          total_eval_loss += loss.item()\n",
        "\n",
        "          # Move logits and labels to CPU\n",
        "          logits = logits.detach().cpu().numpy()\n",
        "          label_ids = b_labels.to('cpu').numpy()\n",
        "\n",
        "          # Calculate the accuracy for this batch of test sentences, and\n",
        "          # accumulate it over all batches.\n",
        "          total_eval_accuracy += flat_accuracy(logits, label_ids)\n",
        "\n",
        "\n",
        "      # Report the final accuracy for this validation run.\n",
        "      avg_val_accuracy = total_eval_accuracy / len(validation_dataloader)\n",
        "      print(\"  Accuracy: {0:.2f}\".format(avg_val_accuracy))\n",
        "\n",
        "      # Calculate the average loss over all of the batches.\n",
        "      avg_val_loss = total_eval_loss / len(validation_dataloader)\n",
        "\n",
        "      # Measure how long the validation run took.\n",
        "      validation_time = format_time(time.time() - t0)\n",
        "\n",
        "      print(\"  Validation Loss: {0:.2f}\".format(avg_val_loss))\n",
        "      print(\"  Validation took: {:}\".format(validation_time))\n",
        "\n",
        "      # Record all statistics from this epoch.\n",
        "      training_stats.append(\n",
        "          {\n",
        "              'epoch': epoch_i + 1,\n",
        "              'Training Loss': avg_train_loss,\n",
        "              'Valid. Loss': avg_val_loss,\n",
        "              'Valid. Accur.': avg_val_accuracy,\n",
        "              'Training Time': training_time,\n",
        "              'Validation Time': validation_time\n",
        "          }\n",
        "      )\n",
        "\n",
        "  print(\"\")\n",
        "  print(\"Training complete!\")\n",
        "\n",
        "  print(\"Total training took {:} (h:mm:ss)\".format(format_time(time.time()-total_t0)))"
      ]
    },
    {
      "cell_type": "code",
      "execution_count": 9,
      "metadata": {
        "id": "K7i92e80UdYX"
      },
      "outputs": [],
      "source": [
        "# define a function for predicting labels\n",
        "\n",
        "def predict(test_dataset):\n",
        "  prediction_sampler = SequentialSampler(test_dataset)\n",
        "  prediction_dataloader = DataLoader(test_dataset, sampler=prediction_sampler, batch_size=batch_size)\n",
        "\n",
        "  print('Predicting labels for {:,} test sentences...'.format(len(test_dataset)))\n",
        "\n",
        "  # Put model in evaluation mode\n",
        "  model.eval()\n",
        "\n",
        "  # Tracking variables\n",
        "  predictions , true_labels = [], []\n",
        "\n",
        "  # Predict\n",
        "  for batch in prediction_dataloader:\n",
        "    # Add batch to GPU\n",
        "    batch = tuple(t.to(device) for t in batch)\n",
        "\n",
        "    # Unpack the inputs from our dataloader\n",
        "    b_input_ids, b_input_mask, b_labels = batch\n",
        "\n",
        "    # Telling the model not to compute or store gradients, saving memory and\n",
        "    # speeding up prediction\n",
        "    with torch.no_grad():\n",
        "        # Forward pass, calculate logit predictions.\n",
        "        result = model(b_input_ids,\n",
        "                      token_type_ids=None,\n",
        "                      attention_mask=b_input_mask,\n",
        "                      return_dict=True)\n",
        "\n",
        "    logits = result.logits\n",
        "\n",
        "    # Move logits and labels to CPU\n",
        "    logits = logits.detach().cpu().numpy()\n",
        "    label_ids = b_labels.to('cpu').numpy()\n",
        "\n",
        "    # Store predictions and true labels\n",
        "    predictions.append(logits)\n",
        "    true_labels.append(label_ids)\n",
        "\n",
        "  # Combine the results across all batches.\n",
        "  flat_predictions = np.concatenate(predictions, axis=0)\n",
        "\n",
        "  # For each sample, pick the label (0 or 1) with the higher score.\n",
        "  flat_predictions = np.argmax(flat_predictions, axis=1).flatten()\n",
        "\n",
        "  # Combine the correct labels for each batch into a single list.\n",
        "  flat_true_labels = np.concatenate(true_labels, axis=0)\n",
        "\n",
        "  print(classification_report(flat_true_labels, flat_predictions))\n"
      ]
    },
    {
      "cell_type": "code",
      "source": [
        "# train model using middle part of transcripts to predict popularity\n",
        "train_model(train_dataloader_popular, validation_dataloader_popular)\n",
        "predict(test_dataset_popular)\n",
        "\n",
        "# predict engagement\n",
        "train_model(train_dataloader_engaging, validation_dataloader_engaging)\n",
        "predict(test_dataset_engaging)"
      ],
      "metadata": {
        "colab": {
          "base_uri": "https://localhost:8080/"
        },
        "id": "nyk_Zc0yfGMl",
        "outputId": "ec48dc98-f785-4789-c6fa-e847b72d4c2c"
      },
      "execution_count": 12,
      "outputs": [
        {
          "output_type": "stream",
          "name": "stdout",
          "text": [
            "\n",
            "======== Epoch 1 / 4 ========\n",
            "Training...\n",
            "  Batch    40  of     62.    Elapsed: 0:15:11.\n",
            "\n",
            "  Average training loss: 0.57\n",
            "  Training epcoh took: 0:23:14\n",
            "\n",
            "Running Validation...\n",
            "  Accuracy: 0.73\n",
            "  Validation Loss: 0.56\n",
            "  Validation took: 0:00:52\n",
            "\n",
            "======== Epoch 2 / 4 ========\n",
            "Training...\n",
            "  Batch    40  of     62.    Elapsed: 0:14:10.\n",
            "\n",
            "  Average training loss: 0.53\n",
            "  Training epcoh took: 0:21:49\n",
            "\n",
            "Running Validation...\n",
            "  Accuracy: 0.73\n",
            "  Validation Loss: 0.54\n",
            "  Validation took: 0:00:47\n",
            "\n",
            "======== Epoch 3 / 4 ========\n",
            "Training...\n",
            "  Batch    40  of     62.    Elapsed: 0:14:07.\n",
            "\n",
            "  Average training loss: 0.50\n",
            "  Training epcoh took: 0:21:39\n",
            "\n",
            "Running Validation...\n",
            "  Accuracy: 0.72\n",
            "  Validation Loss: 0.53\n",
            "  Validation took: 0:00:50\n",
            "\n",
            "======== Epoch 4 / 4 ========\n",
            "Training...\n",
            "  Batch    40  of     62.    Elapsed: 0:13:54.\n",
            "\n",
            "  Average training loss: 0.47\n",
            "  Training epcoh took: 0:21:28\n",
            "\n",
            "Running Validation...\n",
            "  Accuracy: 0.73\n",
            "  Validation Loss: 0.53\n",
            "  Validation took: 0:00:45\n",
            "\n",
            "Training complete!\n",
            "Total training took 1:31:24 (h:mm:ss)\n",
            "Predicting labels for 248 test sentences...\n",
            "              precision    recall  f1-score   support\n",
            "\n",
            "           0       0.82      0.94      0.88       194\n",
            "           1       0.54      0.26      0.35        54\n",
            "\n",
            "    accuracy                           0.79       248\n",
            "   macro avg       0.68      0.60      0.61       248\n",
            "weighted avg       0.76      0.79      0.76       248\n",
            "\n",
            "\n",
            "======== Epoch 1 / 4 ========\n",
            "Training...\n",
            "  Batch    40  of     62.    Elapsed: 0:13:54.\n",
            "\n",
            "  Average training loss: 0.44\n",
            "  Training epcoh took: 0:21:26\n",
            "\n",
            "Running Validation...\n",
            "  Accuracy: 0.70\n",
            "  Validation Loss: 0.66\n",
            "  Validation took: 0:00:50\n",
            "\n",
            "======== Epoch 2 / 4 ========\n",
            "Training...\n",
            "  Batch    40  of     62.    Elapsed: 0:14:38.\n",
            "\n",
            "  Average training loss: 0.44\n",
            "  Training epcoh took: 0:22:38\n",
            "\n",
            "Running Validation...\n",
            "  Accuracy: 0.70\n",
            "  Validation Loss: 0.66\n",
            "  Validation took: 0:00:49\n",
            "\n",
            "======== Epoch 3 / 4 ========\n",
            "Training...\n",
            "  Batch    40  of     62.    Elapsed: 0:14:27.\n",
            "\n",
            "  Average training loss: 0.45\n",
            "  Training epcoh took: 0:22:04\n",
            "\n",
            "Running Validation...\n",
            "  Accuracy: 0.70\n",
            "  Validation Loss: 0.66\n",
            "  Validation took: 0:00:47\n",
            "\n",
            "======== Epoch 4 / 4 ========\n",
            "Training...\n",
            "  Batch    40  of     62.    Elapsed: 0:13:42.\n",
            "\n",
            "  Average training loss: 0.45\n",
            "  Training epcoh took: 0:21:09\n",
            "\n",
            "Running Validation...\n",
            "  Accuracy: 0.70\n",
            "  Validation Loss: 0.66\n",
            "  Validation took: 0:00:44\n",
            "\n",
            "Training complete!\n",
            "Total training took 1:30:26 (h:mm:ss)\n",
            "Predicting labels for 248 test sentences...\n",
            "              precision    recall  f1-score   support\n",
            "\n",
            "           0       0.69      0.87      0.77       176\n",
            "           1       0.12      0.04      0.06        72\n",
            "\n",
            "    accuracy                           0.63       248\n",
            "   macro avg       0.40      0.46      0.42       248\n",
            "weighted avg       0.52      0.63      0.56       248\n",
            "\n"
          ]
        }
      ]
    },
    {
      "cell_type": "markdown",
      "source": [
        "#### Results\n",
        "\n",
        "The output shows classification reports detailing predictions for popularity and engagement using only the transcripts of the talks with a pre-trained BERT model. These reports provide key metrics like precision, recall, and F1-score, offering a straightforward evaluation of the model's performance in making accurate predictions based on the talk content.\n",
        "\n",
        "The accuracy achieved for predicting popularity trained on the entire (unbalanced) dataset is 79%. To put this into context, the best accuracy using solely linguistic features reached 90% on the complete dataset and 85% on the balanced dataset.\n",
        "\n",
        "For engagement prediction trained on the entire (unbalanced) dataset, the accuracy stands at 63%. In comparison, the best accuracy using only linguistic features was 79% on the full dataset and 80% on the balanced dataset.\n",
        "\n",
        "It's important to note that the BERT model underwent training for over 1.5 hours on a TPU, whereas models trained solely on linguistic features required mere seconds for label predictions using a CPU."
      ],
      "metadata": {
        "id": "womi2C-DCtfu"
      }
    },
    {
      "cell_type": "code",
      "source": [
        "!pip install pipreqs"
      ],
      "metadata": {
        "colab": {
          "base_uri": "https://localhost:8080/"
        },
        "id": "Hkwhbs978x-0",
        "outputId": "7fda2b5c-d90f-4487-8a16-e6873c9e281a"
      },
      "execution_count": 46,
      "outputs": [
        {
          "output_type": "stream",
          "name": "stdout",
          "text": [
            "Collecting pipreqs\n",
            "  Downloading pipreqs-0.4.13-py2.py3-none-any.whl (33 kB)\n",
            "Collecting docopt (from pipreqs)\n",
            "  Downloading docopt-0.6.2.tar.gz (25 kB)\n",
            "  Preparing metadata (setup.py) ... \u001b[?25l\u001b[?25hdone\n",
            "Collecting yarg (from pipreqs)\n",
            "  Downloading yarg-0.1.9-py2.py3-none-any.whl (19 kB)\n",
            "Requirement already satisfied: requests in /usr/local/lib/python3.10/dist-packages (from yarg->pipreqs) (2.31.0)\n",
            "Requirement already satisfied: charset-normalizer<4,>=2 in /usr/local/lib/python3.10/dist-packages (from requests->yarg->pipreqs) (3.3.2)\n",
            "Requirement already satisfied: idna<4,>=2.5 in /usr/local/lib/python3.10/dist-packages (from requests->yarg->pipreqs) (3.6)\n",
            "Requirement already satisfied: urllib3<3,>=1.21.1 in /usr/local/lib/python3.10/dist-packages (from requests->yarg->pipreqs) (2.0.7)\n",
            "Requirement already satisfied: certifi>=2017.4.17 in /usr/local/lib/python3.10/dist-packages (from requests->yarg->pipreqs) (2023.11.17)\n",
            "Building wheels for collected packages: docopt\n",
            "  Building wheel for docopt (setup.py) ... \u001b[?25l\u001b[?25hdone\n",
            "  Created wheel for docopt: filename=docopt-0.6.2-py2.py3-none-any.whl size=13706 sha256=63028e84f8f0e52ed67e82b01c6ad66b70402c3a68e2a60840ffed74ea0fe161\n",
            "  Stored in directory: /root/.cache/pip/wheels/fc/ab/d4/5da2067ac95b36618c629a5f93f809425700506f72c9732fac\n",
            "Successfully built docopt\n",
            "Installing collected packages: docopt, yarg, pipreqs\n",
            "Successfully installed docopt-0.6.2 pipreqs-0.4.13 yarg-0.1.9\n"
          ]
        }
      ]
    },
    {
      "cell_type": "code",
      "source": [
        "!pip freeze > requirements.txt"
      ],
      "metadata": {
        "id": "4PCsHmb_83Hh"
      },
      "execution_count": 53,
      "outputs": []
    }
  ],
  "metadata": {
    "colab": {
      "machine_shape": "hm",
      "provenance": []
    },
    "kernelspec": {
      "display_name": "Python 3",
      "name": "python3"
    },
    "language_info": {
      "codemirror_mode": {
        "name": "ipython",
        "version": 3
      },
      "file_extension": ".py",
      "mimetype": "text/x-python",
      "name": "python",
      "nbconvert_exporter": "python",
      "pygments_lexer": "ipython3",
      "version": "3.11.4"
    },
    "widgets": {
      "application/vnd.jupyter.widget-state+json": {
        "0e98f8b73dca4410942d7136ee7177dd": {
          "model_module": "@jupyter-widgets/controls",
          "model_name": "HBoxModel",
          "model_module_version": "1.5.0",
          "state": {
            "_dom_classes": [],
            "_model_module": "@jupyter-widgets/controls",
            "_model_module_version": "1.5.0",
            "_model_name": "HBoxModel",
            "_view_count": null,
            "_view_module": "@jupyter-widgets/controls",
            "_view_module_version": "1.5.0",
            "_view_name": "HBoxView",
            "box_style": "",
            "children": [
              "IPY_MODEL_fdd7c0c957e3496fa2daf1e1eb996e6b",
              "IPY_MODEL_a25fd16473f44ec3a307da58ed9158e9",
              "IPY_MODEL_addd9df3afe6449f9d4d376921eddb5d"
            ],
            "layout": "IPY_MODEL_f6a92cb7f03f4e5c9350c4ed97de918d"
          }
        },
        "fdd7c0c957e3496fa2daf1e1eb996e6b": {
          "model_module": "@jupyter-widgets/controls",
          "model_name": "HTMLModel",
          "model_module_version": "1.5.0",
          "state": {
            "_dom_classes": [],
            "_model_module": "@jupyter-widgets/controls",
            "_model_module_version": "1.5.0",
            "_model_name": "HTMLModel",
            "_view_count": null,
            "_view_module": "@jupyter-widgets/controls",
            "_view_module_version": "1.5.0",
            "_view_name": "HTMLView",
            "description": "",
            "description_tooltip": null,
            "layout": "IPY_MODEL_e2c75c7afc3d432ebd5534ff17be2f0b",
            "placeholder": "​",
            "style": "IPY_MODEL_2b7411750b574ae6af76a5ae5ac3d36b",
            "value": "tokenizer_config.json: 100%"
          }
        },
        "a25fd16473f44ec3a307da58ed9158e9": {
          "model_module": "@jupyter-widgets/controls",
          "model_name": "FloatProgressModel",
          "model_module_version": "1.5.0",
          "state": {
            "_dom_classes": [],
            "_model_module": "@jupyter-widgets/controls",
            "_model_module_version": "1.5.0",
            "_model_name": "FloatProgressModel",
            "_view_count": null,
            "_view_module": "@jupyter-widgets/controls",
            "_view_module_version": "1.5.0",
            "_view_name": "ProgressView",
            "bar_style": "success",
            "description": "",
            "description_tooltip": null,
            "layout": "IPY_MODEL_d4538e4c020b4dc9946bdfe168b43e17",
            "max": 28,
            "min": 0,
            "orientation": "horizontal",
            "style": "IPY_MODEL_75d5070471cc429681c3319bed471a69",
            "value": 28
          }
        },
        "addd9df3afe6449f9d4d376921eddb5d": {
          "model_module": "@jupyter-widgets/controls",
          "model_name": "HTMLModel",
          "model_module_version": "1.5.0",
          "state": {
            "_dom_classes": [],
            "_model_module": "@jupyter-widgets/controls",
            "_model_module_version": "1.5.0",
            "_model_name": "HTMLModel",
            "_view_count": null,
            "_view_module": "@jupyter-widgets/controls",
            "_view_module_version": "1.5.0",
            "_view_name": "HTMLView",
            "description": "",
            "description_tooltip": null,
            "layout": "IPY_MODEL_3597eb3ab24b47a9b7f89911c2103844",
            "placeholder": "​",
            "style": "IPY_MODEL_30c421676b8f4f408b9dd2501319fb80",
            "value": " 28.0/28.0 [00:00&lt;00:00, 2.31kB/s]"
          }
        },
        "f6a92cb7f03f4e5c9350c4ed97de918d": {
          "model_module": "@jupyter-widgets/base",
          "model_name": "LayoutModel",
          "model_module_version": "1.2.0",
          "state": {
            "_model_module": "@jupyter-widgets/base",
            "_model_module_version": "1.2.0",
            "_model_name": "LayoutModel",
            "_view_count": null,
            "_view_module": "@jupyter-widgets/base",
            "_view_module_version": "1.2.0",
            "_view_name": "LayoutView",
            "align_content": null,
            "align_items": null,
            "align_self": null,
            "border": null,
            "bottom": null,
            "display": null,
            "flex": null,
            "flex_flow": null,
            "grid_area": null,
            "grid_auto_columns": null,
            "grid_auto_flow": null,
            "grid_auto_rows": null,
            "grid_column": null,
            "grid_gap": null,
            "grid_row": null,
            "grid_template_areas": null,
            "grid_template_columns": null,
            "grid_template_rows": null,
            "height": null,
            "justify_content": null,
            "justify_items": null,
            "left": null,
            "margin": null,
            "max_height": null,
            "max_width": null,
            "min_height": null,
            "min_width": null,
            "object_fit": null,
            "object_position": null,
            "order": null,
            "overflow": null,
            "overflow_x": null,
            "overflow_y": null,
            "padding": null,
            "right": null,
            "top": null,
            "visibility": null,
            "width": null
          }
        },
        "e2c75c7afc3d432ebd5534ff17be2f0b": {
          "model_module": "@jupyter-widgets/base",
          "model_name": "LayoutModel",
          "model_module_version": "1.2.0",
          "state": {
            "_model_module": "@jupyter-widgets/base",
            "_model_module_version": "1.2.0",
            "_model_name": "LayoutModel",
            "_view_count": null,
            "_view_module": "@jupyter-widgets/base",
            "_view_module_version": "1.2.0",
            "_view_name": "LayoutView",
            "align_content": null,
            "align_items": null,
            "align_self": null,
            "border": null,
            "bottom": null,
            "display": null,
            "flex": null,
            "flex_flow": null,
            "grid_area": null,
            "grid_auto_columns": null,
            "grid_auto_flow": null,
            "grid_auto_rows": null,
            "grid_column": null,
            "grid_gap": null,
            "grid_row": null,
            "grid_template_areas": null,
            "grid_template_columns": null,
            "grid_template_rows": null,
            "height": null,
            "justify_content": null,
            "justify_items": null,
            "left": null,
            "margin": null,
            "max_height": null,
            "max_width": null,
            "min_height": null,
            "min_width": null,
            "object_fit": null,
            "object_position": null,
            "order": null,
            "overflow": null,
            "overflow_x": null,
            "overflow_y": null,
            "padding": null,
            "right": null,
            "top": null,
            "visibility": null,
            "width": null
          }
        },
        "2b7411750b574ae6af76a5ae5ac3d36b": {
          "model_module": "@jupyter-widgets/controls",
          "model_name": "DescriptionStyleModel",
          "model_module_version": "1.5.0",
          "state": {
            "_model_module": "@jupyter-widgets/controls",
            "_model_module_version": "1.5.0",
            "_model_name": "DescriptionStyleModel",
            "_view_count": null,
            "_view_module": "@jupyter-widgets/base",
            "_view_module_version": "1.2.0",
            "_view_name": "StyleView",
            "description_width": ""
          }
        },
        "d4538e4c020b4dc9946bdfe168b43e17": {
          "model_module": "@jupyter-widgets/base",
          "model_name": "LayoutModel",
          "model_module_version": "1.2.0",
          "state": {
            "_model_module": "@jupyter-widgets/base",
            "_model_module_version": "1.2.0",
            "_model_name": "LayoutModel",
            "_view_count": null,
            "_view_module": "@jupyter-widgets/base",
            "_view_module_version": "1.2.0",
            "_view_name": "LayoutView",
            "align_content": null,
            "align_items": null,
            "align_self": null,
            "border": null,
            "bottom": null,
            "display": null,
            "flex": null,
            "flex_flow": null,
            "grid_area": null,
            "grid_auto_columns": null,
            "grid_auto_flow": null,
            "grid_auto_rows": null,
            "grid_column": null,
            "grid_gap": null,
            "grid_row": null,
            "grid_template_areas": null,
            "grid_template_columns": null,
            "grid_template_rows": null,
            "height": null,
            "justify_content": null,
            "justify_items": null,
            "left": null,
            "margin": null,
            "max_height": null,
            "max_width": null,
            "min_height": null,
            "min_width": null,
            "object_fit": null,
            "object_position": null,
            "order": null,
            "overflow": null,
            "overflow_x": null,
            "overflow_y": null,
            "padding": null,
            "right": null,
            "top": null,
            "visibility": null,
            "width": null
          }
        },
        "75d5070471cc429681c3319bed471a69": {
          "model_module": "@jupyter-widgets/controls",
          "model_name": "ProgressStyleModel",
          "model_module_version": "1.5.0",
          "state": {
            "_model_module": "@jupyter-widgets/controls",
            "_model_module_version": "1.5.0",
            "_model_name": "ProgressStyleModel",
            "_view_count": null,
            "_view_module": "@jupyter-widgets/base",
            "_view_module_version": "1.2.0",
            "_view_name": "StyleView",
            "bar_color": null,
            "description_width": ""
          }
        },
        "3597eb3ab24b47a9b7f89911c2103844": {
          "model_module": "@jupyter-widgets/base",
          "model_name": "LayoutModel",
          "model_module_version": "1.2.0",
          "state": {
            "_model_module": "@jupyter-widgets/base",
            "_model_module_version": "1.2.0",
            "_model_name": "LayoutModel",
            "_view_count": null,
            "_view_module": "@jupyter-widgets/base",
            "_view_module_version": "1.2.0",
            "_view_name": "LayoutView",
            "align_content": null,
            "align_items": null,
            "align_self": null,
            "border": null,
            "bottom": null,
            "display": null,
            "flex": null,
            "flex_flow": null,
            "grid_area": null,
            "grid_auto_columns": null,
            "grid_auto_flow": null,
            "grid_auto_rows": null,
            "grid_column": null,
            "grid_gap": null,
            "grid_row": null,
            "grid_template_areas": null,
            "grid_template_columns": null,
            "grid_template_rows": null,
            "height": null,
            "justify_content": null,
            "justify_items": null,
            "left": null,
            "margin": null,
            "max_height": null,
            "max_width": null,
            "min_height": null,
            "min_width": null,
            "object_fit": null,
            "object_position": null,
            "order": null,
            "overflow": null,
            "overflow_x": null,
            "overflow_y": null,
            "padding": null,
            "right": null,
            "top": null,
            "visibility": null,
            "width": null
          }
        },
        "30c421676b8f4f408b9dd2501319fb80": {
          "model_module": "@jupyter-widgets/controls",
          "model_name": "DescriptionStyleModel",
          "model_module_version": "1.5.0",
          "state": {
            "_model_module": "@jupyter-widgets/controls",
            "_model_module_version": "1.5.0",
            "_model_name": "DescriptionStyleModel",
            "_view_count": null,
            "_view_module": "@jupyter-widgets/base",
            "_view_module_version": "1.2.0",
            "_view_name": "StyleView",
            "description_width": ""
          }
        },
        "a3292c1a0b9d45769ed966f621a05b99": {
          "model_module": "@jupyter-widgets/controls",
          "model_name": "HBoxModel",
          "model_module_version": "1.5.0",
          "state": {
            "_dom_classes": [],
            "_model_module": "@jupyter-widgets/controls",
            "_model_module_version": "1.5.0",
            "_model_name": "HBoxModel",
            "_view_count": null,
            "_view_module": "@jupyter-widgets/controls",
            "_view_module_version": "1.5.0",
            "_view_name": "HBoxView",
            "box_style": "",
            "children": [
              "IPY_MODEL_b44fb910755d487999921bb70dd7146c",
              "IPY_MODEL_73c04959b75d4ed38b8da92c63326051",
              "IPY_MODEL_954f7542d17548ca901bf96c0e60d4f0"
            ],
            "layout": "IPY_MODEL_953bfa32043442fabeceb8902d601ba1"
          }
        },
        "b44fb910755d487999921bb70dd7146c": {
          "model_module": "@jupyter-widgets/controls",
          "model_name": "HTMLModel",
          "model_module_version": "1.5.0",
          "state": {
            "_dom_classes": [],
            "_model_module": "@jupyter-widgets/controls",
            "_model_module_version": "1.5.0",
            "_model_name": "HTMLModel",
            "_view_count": null,
            "_view_module": "@jupyter-widgets/controls",
            "_view_module_version": "1.5.0",
            "_view_name": "HTMLView",
            "description": "",
            "description_tooltip": null,
            "layout": "IPY_MODEL_31cf81b2e92d4e50998572588898a6ad",
            "placeholder": "​",
            "style": "IPY_MODEL_a2c0cfc40d2442148804d987c7c7afd1",
            "value": "vocab.txt: 100%"
          }
        },
        "73c04959b75d4ed38b8da92c63326051": {
          "model_module": "@jupyter-widgets/controls",
          "model_name": "FloatProgressModel",
          "model_module_version": "1.5.0",
          "state": {
            "_dom_classes": [],
            "_model_module": "@jupyter-widgets/controls",
            "_model_module_version": "1.5.0",
            "_model_name": "FloatProgressModel",
            "_view_count": null,
            "_view_module": "@jupyter-widgets/controls",
            "_view_module_version": "1.5.0",
            "_view_name": "ProgressView",
            "bar_style": "success",
            "description": "",
            "description_tooltip": null,
            "layout": "IPY_MODEL_98736ed6026e42578ecee10e6861469c",
            "max": 231508,
            "min": 0,
            "orientation": "horizontal",
            "style": "IPY_MODEL_9ea0376b3453407ab3071c850a66c983",
            "value": 231508
          }
        },
        "954f7542d17548ca901bf96c0e60d4f0": {
          "model_module": "@jupyter-widgets/controls",
          "model_name": "HTMLModel",
          "model_module_version": "1.5.0",
          "state": {
            "_dom_classes": [],
            "_model_module": "@jupyter-widgets/controls",
            "_model_module_version": "1.5.0",
            "_model_name": "HTMLModel",
            "_view_count": null,
            "_view_module": "@jupyter-widgets/controls",
            "_view_module_version": "1.5.0",
            "_view_name": "HTMLView",
            "description": "",
            "description_tooltip": null,
            "layout": "IPY_MODEL_3165fd01a9be4aa39220715892f71aff",
            "placeholder": "​",
            "style": "IPY_MODEL_6204f9481db1433499ab3adffa34eb2f",
            "value": " 232k/232k [00:00&lt;00:00, 4.95MB/s]"
          }
        },
        "953bfa32043442fabeceb8902d601ba1": {
          "model_module": "@jupyter-widgets/base",
          "model_name": "LayoutModel",
          "model_module_version": "1.2.0",
          "state": {
            "_model_module": "@jupyter-widgets/base",
            "_model_module_version": "1.2.0",
            "_model_name": "LayoutModel",
            "_view_count": null,
            "_view_module": "@jupyter-widgets/base",
            "_view_module_version": "1.2.0",
            "_view_name": "LayoutView",
            "align_content": null,
            "align_items": null,
            "align_self": null,
            "border": null,
            "bottom": null,
            "display": null,
            "flex": null,
            "flex_flow": null,
            "grid_area": null,
            "grid_auto_columns": null,
            "grid_auto_flow": null,
            "grid_auto_rows": null,
            "grid_column": null,
            "grid_gap": null,
            "grid_row": null,
            "grid_template_areas": null,
            "grid_template_columns": null,
            "grid_template_rows": null,
            "height": null,
            "justify_content": null,
            "justify_items": null,
            "left": null,
            "margin": null,
            "max_height": null,
            "max_width": null,
            "min_height": null,
            "min_width": null,
            "object_fit": null,
            "object_position": null,
            "order": null,
            "overflow": null,
            "overflow_x": null,
            "overflow_y": null,
            "padding": null,
            "right": null,
            "top": null,
            "visibility": null,
            "width": null
          }
        },
        "31cf81b2e92d4e50998572588898a6ad": {
          "model_module": "@jupyter-widgets/base",
          "model_name": "LayoutModel",
          "model_module_version": "1.2.0",
          "state": {
            "_model_module": "@jupyter-widgets/base",
            "_model_module_version": "1.2.0",
            "_model_name": "LayoutModel",
            "_view_count": null,
            "_view_module": "@jupyter-widgets/base",
            "_view_module_version": "1.2.0",
            "_view_name": "LayoutView",
            "align_content": null,
            "align_items": null,
            "align_self": null,
            "border": null,
            "bottom": null,
            "display": null,
            "flex": null,
            "flex_flow": null,
            "grid_area": null,
            "grid_auto_columns": null,
            "grid_auto_flow": null,
            "grid_auto_rows": null,
            "grid_column": null,
            "grid_gap": null,
            "grid_row": null,
            "grid_template_areas": null,
            "grid_template_columns": null,
            "grid_template_rows": null,
            "height": null,
            "justify_content": null,
            "justify_items": null,
            "left": null,
            "margin": null,
            "max_height": null,
            "max_width": null,
            "min_height": null,
            "min_width": null,
            "object_fit": null,
            "object_position": null,
            "order": null,
            "overflow": null,
            "overflow_x": null,
            "overflow_y": null,
            "padding": null,
            "right": null,
            "top": null,
            "visibility": null,
            "width": null
          }
        },
        "a2c0cfc40d2442148804d987c7c7afd1": {
          "model_module": "@jupyter-widgets/controls",
          "model_name": "DescriptionStyleModel",
          "model_module_version": "1.5.0",
          "state": {
            "_model_module": "@jupyter-widgets/controls",
            "_model_module_version": "1.5.0",
            "_model_name": "DescriptionStyleModel",
            "_view_count": null,
            "_view_module": "@jupyter-widgets/base",
            "_view_module_version": "1.2.0",
            "_view_name": "StyleView",
            "description_width": ""
          }
        },
        "98736ed6026e42578ecee10e6861469c": {
          "model_module": "@jupyter-widgets/base",
          "model_name": "LayoutModel",
          "model_module_version": "1.2.0",
          "state": {
            "_model_module": "@jupyter-widgets/base",
            "_model_module_version": "1.2.0",
            "_model_name": "LayoutModel",
            "_view_count": null,
            "_view_module": "@jupyter-widgets/base",
            "_view_module_version": "1.2.0",
            "_view_name": "LayoutView",
            "align_content": null,
            "align_items": null,
            "align_self": null,
            "border": null,
            "bottom": null,
            "display": null,
            "flex": null,
            "flex_flow": null,
            "grid_area": null,
            "grid_auto_columns": null,
            "grid_auto_flow": null,
            "grid_auto_rows": null,
            "grid_column": null,
            "grid_gap": null,
            "grid_row": null,
            "grid_template_areas": null,
            "grid_template_columns": null,
            "grid_template_rows": null,
            "height": null,
            "justify_content": null,
            "justify_items": null,
            "left": null,
            "margin": null,
            "max_height": null,
            "max_width": null,
            "min_height": null,
            "min_width": null,
            "object_fit": null,
            "object_position": null,
            "order": null,
            "overflow": null,
            "overflow_x": null,
            "overflow_y": null,
            "padding": null,
            "right": null,
            "top": null,
            "visibility": null,
            "width": null
          }
        },
        "9ea0376b3453407ab3071c850a66c983": {
          "model_module": "@jupyter-widgets/controls",
          "model_name": "ProgressStyleModel",
          "model_module_version": "1.5.0",
          "state": {
            "_model_module": "@jupyter-widgets/controls",
            "_model_module_version": "1.5.0",
            "_model_name": "ProgressStyleModel",
            "_view_count": null,
            "_view_module": "@jupyter-widgets/base",
            "_view_module_version": "1.2.0",
            "_view_name": "StyleView",
            "bar_color": null,
            "description_width": ""
          }
        },
        "3165fd01a9be4aa39220715892f71aff": {
          "model_module": "@jupyter-widgets/base",
          "model_name": "LayoutModel",
          "model_module_version": "1.2.0",
          "state": {
            "_model_module": "@jupyter-widgets/base",
            "_model_module_version": "1.2.0",
            "_model_name": "LayoutModel",
            "_view_count": null,
            "_view_module": "@jupyter-widgets/base",
            "_view_module_version": "1.2.0",
            "_view_name": "LayoutView",
            "align_content": null,
            "align_items": null,
            "align_self": null,
            "border": null,
            "bottom": null,
            "display": null,
            "flex": null,
            "flex_flow": null,
            "grid_area": null,
            "grid_auto_columns": null,
            "grid_auto_flow": null,
            "grid_auto_rows": null,
            "grid_column": null,
            "grid_gap": null,
            "grid_row": null,
            "grid_template_areas": null,
            "grid_template_columns": null,
            "grid_template_rows": null,
            "height": null,
            "justify_content": null,
            "justify_items": null,
            "left": null,
            "margin": null,
            "max_height": null,
            "max_width": null,
            "min_height": null,
            "min_width": null,
            "object_fit": null,
            "object_position": null,
            "order": null,
            "overflow": null,
            "overflow_x": null,
            "overflow_y": null,
            "padding": null,
            "right": null,
            "top": null,
            "visibility": null,
            "width": null
          }
        },
        "6204f9481db1433499ab3adffa34eb2f": {
          "model_module": "@jupyter-widgets/controls",
          "model_name": "DescriptionStyleModel",
          "model_module_version": "1.5.0",
          "state": {
            "_model_module": "@jupyter-widgets/controls",
            "_model_module_version": "1.5.0",
            "_model_name": "DescriptionStyleModel",
            "_view_count": null,
            "_view_module": "@jupyter-widgets/base",
            "_view_module_version": "1.2.0",
            "_view_name": "StyleView",
            "description_width": ""
          }
        },
        "de30b9dc335642f9a0a56240fb15a1a9": {
          "model_module": "@jupyter-widgets/controls",
          "model_name": "HBoxModel",
          "model_module_version": "1.5.0",
          "state": {
            "_dom_classes": [],
            "_model_module": "@jupyter-widgets/controls",
            "_model_module_version": "1.5.0",
            "_model_name": "HBoxModel",
            "_view_count": null,
            "_view_module": "@jupyter-widgets/controls",
            "_view_module_version": "1.5.0",
            "_view_name": "HBoxView",
            "box_style": "",
            "children": [
              "IPY_MODEL_43043565e8c34b8cb71bd368d7145166",
              "IPY_MODEL_98516b34e1e34154b1b455f3de1a7c45",
              "IPY_MODEL_b220371ee5bb4b11bea5b761afc18551"
            ],
            "layout": "IPY_MODEL_1b436c9d4e4d4465bf916d75dbbe6a6a"
          }
        },
        "43043565e8c34b8cb71bd368d7145166": {
          "model_module": "@jupyter-widgets/controls",
          "model_name": "HTMLModel",
          "model_module_version": "1.5.0",
          "state": {
            "_dom_classes": [],
            "_model_module": "@jupyter-widgets/controls",
            "_model_module_version": "1.5.0",
            "_model_name": "HTMLModel",
            "_view_count": null,
            "_view_module": "@jupyter-widgets/controls",
            "_view_module_version": "1.5.0",
            "_view_name": "HTMLView",
            "description": "",
            "description_tooltip": null,
            "layout": "IPY_MODEL_b14815ec37e84e0c843c68c91402bbb9",
            "placeholder": "​",
            "style": "IPY_MODEL_5f1bf629e46a464ebc53a039075af084",
            "value": "tokenizer.json: 100%"
          }
        },
        "98516b34e1e34154b1b455f3de1a7c45": {
          "model_module": "@jupyter-widgets/controls",
          "model_name": "FloatProgressModel",
          "model_module_version": "1.5.0",
          "state": {
            "_dom_classes": [],
            "_model_module": "@jupyter-widgets/controls",
            "_model_module_version": "1.5.0",
            "_model_name": "FloatProgressModel",
            "_view_count": null,
            "_view_module": "@jupyter-widgets/controls",
            "_view_module_version": "1.5.0",
            "_view_name": "ProgressView",
            "bar_style": "success",
            "description": "",
            "description_tooltip": null,
            "layout": "IPY_MODEL_bfd2bd165b8048329d49f929697c8a69",
            "max": 466062,
            "min": 0,
            "orientation": "horizontal",
            "style": "IPY_MODEL_16c2c7ba861e4683920761a18d779fc6",
            "value": 466062
          }
        },
        "b220371ee5bb4b11bea5b761afc18551": {
          "model_module": "@jupyter-widgets/controls",
          "model_name": "HTMLModel",
          "model_module_version": "1.5.0",
          "state": {
            "_dom_classes": [],
            "_model_module": "@jupyter-widgets/controls",
            "_model_module_version": "1.5.0",
            "_model_name": "HTMLModel",
            "_view_count": null,
            "_view_module": "@jupyter-widgets/controls",
            "_view_module_version": "1.5.0",
            "_view_name": "HTMLView",
            "description": "",
            "description_tooltip": null,
            "layout": "IPY_MODEL_af3a4ed93c984b1082680f881b761c5b",
            "placeholder": "​",
            "style": "IPY_MODEL_2937c99e3c82413293b71507a3f0328a",
            "value": " 466k/466k [00:00&lt;00:00, 21.8MB/s]"
          }
        },
        "1b436c9d4e4d4465bf916d75dbbe6a6a": {
          "model_module": "@jupyter-widgets/base",
          "model_name": "LayoutModel",
          "model_module_version": "1.2.0",
          "state": {
            "_model_module": "@jupyter-widgets/base",
            "_model_module_version": "1.2.0",
            "_model_name": "LayoutModel",
            "_view_count": null,
            "_view_module": "@jupyter-widgets/base",
            "_view_module_version": "1.2.0",
            "_view_name": "LayoutView",
            "align_content": null,
            "align_items": null,
            "align_self": null,
            "border": null,
            "bottom": null,
            "display": null,
            "flex": null,
            "flex_flow": null,
            "grid_area": null,
            "grid_auto_columns": null,
            "grid_auto_flow": null,
            "grid_auto_rows": null,
            "grid_column": null,
            "grid_gap": null,
            "grid_row": null,
            "grid_template_areas": null,
            "grid_template_columns": null,
            "grid_template_rows": null,
            "height": null,
            "justify_content": null,
            "justify_items": null,
            "left": null,
            "margin": null,
            "max_height": null,
            "max_width": null,
            "min_height": null,
            "min_width": null,
            "object_fit": null,
            "object_position": null,
            "order": null,
            "overflow": null,
            "overflow_x": null,
            "overflow_y": null,
            "padding": null,
            "right": null,
            "top": null,
            "visibility": null,
            "width": null
          }
        },
        "b14815ec37e84e0c843c68c91402bbb9": {
          "model_module": "@jupyter-widgets/base",
          "model_name": "LayoutModel",
          "model_module_version": "1.2.0",
          "state": {
            "_model_module": "@jupyter-widgets/base",
            "_model_module_version": "1.2.0",
            "_model_name": "LayoutModel",
            "_view_count": null,
            "_view_module": "@jupyter-widgets/base",
            "_view_module_version": "1.2.0",
            "_view_name": "LayoutView",
            "align_content": null,
            "align_items": null,
            "align_self": null,
            "border": null,
            "bottom": null,
            "display": null,
            "flex": null,
            "flex_flow": null,
            "grid_area": null,
            "grid_auto_columns": null,
            "grid_auto_flow": null,
            "grid_auto_rows": null,
            "grid_column": null,
            "grid_gap": null,
            "grid_row": null,
            "grid_template_areas": null,
            "grid_template_columns": null,
            "grid_template_rows": null,
            "height": null,
            "justify_content": null,
            "justify_items": null,
            "left": null,
            "margin": null,
            "max_height": null,
            "max_width": null,
            "min_height": null,
            "min_width": null,
            "object_fit": null,
            "object_position": null,
            "order": null,
            "overflow": null,
            "overflow_x": null,
            "overflow_y": null,
            "padding": null,
            "right": null,
            "top": null,
            "visibility": null,
            "width": null
          }
        },
        "5f1bf629e46a464ebc53a039075af084": {
          "model_module": "@jupyter-widgets/controls",
          "model_name": "DescriptionStyleModel",
          "model_module_version": "1.5.0",
          "state": {
            "_model_module": "@jupyter-widgets/controls",
            "_model_module_version": "1.5.0",
            "_model_name": "DescriptionStyleModel",
            "_view_count": null,
            "_view_module": "@jupyter-widgets/base",
            "_view_module_version": "1.2.0",
            "_view_name": "StyleView",
            "description_width": ""
          }
        },
        "bfd2bd165b8048329d49f929697c8a69": {
          "model_module": "@jupyter-widgets/base",
          "model_name": "LayoutModel",
          "model_module_version": "1.2.0",
          "state": {
            "_model_module": "@jupyter-widgets/base",
            "_model_module_version": "1.2.0",
            "_model_name": "LayoutModel",
            "_view_count": null,
            "_view_module": "@jupyter-widgets/base",
            "_view_module_version": "1.2.0",
            "_view_name": "LayoutView",
            "align_content": null,
            "align_items": null,
            "align_self": null,
            "border": null,
            "bottom": null,
            "display": null,
            "flex": null,
            "flex_flow": null,
            "grid_area": null,
            "grid_auto_columns": null,
            "grid_auto_flow": null,
            "grid_auto_rows": null,
            "grid_column": null,
            "grid_gap": null,
            "grid_row": null,
            "grid_template_areas": null,
            "grid_template_columns": null,
            "grid_template_rows": null,
            "height": null,
            "justify_content": null,
            "justify_items": null,
            "left": null,
            "margin": null,
            "max_height": null,
            "max_width": null,
            "min_height": null,
            "min_width": null,
            "object_fit": null,
            "object_position": null,
            "order": null,
            "overflow": null,
            "overflow_x": null,
            "overflow_y": null,
            "padding": null,
            "right": null,
            "top": null,
            "visibility": null,
            "width": null
          }
        },
        "16c2c7ba861e4683920761a18d779fc6": {
          "model_module": "@jupyter-widgets/controls",
          "model_name": "ProgressStyleModel",
          "model_module_version": "1.5.0",
          "state": {
            "_model_module": "@jupyter-widgets/controls",
            "_model_module_version": "1.5.0",
            "_model_name": "ProgressStyleModel",
            "_view_count": null,
            "_view_module": "@jupyter-widgets/base",
            "_view_module_version": "1.2.0",
            "_view_name": "StyleView",
            "bar_color": null,
            "description_width": ""
          }
        },
        "af3a4ed93c984b1082680f881b761c5b": {
          "model_module": "@jupyter-widgets/base",
          "model_name": "LayoutModel",
          "model_module_version": "1.2.0",
          "state": {
            "_model_module": "@jupyter-widgets/base",
            "_model_module_version": "1.2.0",
            "_model_name": "LayoutModel",
            "_view_count": null,
            "_view_module": "@jupyter-widgets/base",
            "_view_module_version": "1.2.0",
            "_view_name": "LayoutView",
            "align_content": null,
            "align_items": null,
            "align_self": null,
            "border": null,
            "bottom": null,
            "display": null,
            "flex": null,
            "flex_flow": null,
            "grid_area": null,
            "grid_auto_columns": null,
            "grid_auto_flow": null,
            "grid_auto_rows": null,
            "grid_column": null,
            "grid_gap": null,
            "grid_row": null,
            "grid_template_areas": null,
            "grid_template_columns": null,
            "grid_template_rows": null,
            "height": null,
            "justify_content": null,
            "justify_items": null,
            "left": null,
            "margin": null,
            "max_height": null,
            "max_width": null,
            "min_height": null,
            "min_width": null,
            "object_fit": null,
            "object_position": null,
            "order": null,
            "overflow": null,
            "overflow_x": null,
            "overflow_y": null,
            "padding": null,
            "right": null,
            "top": null,
            "visibility": null,
            "width": null
          }
        },
        "2937c99e3c82413293b71507a3f0328a": {
          "model_module": "@jupyter-widgets/controls",
          "model_name": "DescriptionStyleModel",
          "model_module_version": "1.5.0",
          "state": {
            "_model_module": "@jupyter-widgets/controls",
            "_model_module_version": "1.5.0",
            "_model_name": "DescriptionStyleModel",
            "_view_count": null,
            "_view_module": "@jupyter-widgets/base",
            "_view_module_version": "1.2.0",
            "_view_name": "StyleView",
            "description_width": ""
          }
        },
        "1dff2c7efcba4ef6974874650dd8bf7e": {
          "model_module": "@jupyter-widgets/controls",
          "model_name": "HBoxModel",
          "model_module_version": "1.5.0",
          "state": {
            "_dom_classes": [],
            "_model_module": "@jupyter-widgets/controls",
            "_model_module_version": "1.5.0",
            "_model_name": "HBoxModel",
            "_view_count": null,
            "_view_module": "@jupyter-widgets/controls",
            "_view_module_version": "1.5.0",
            "_view_name": "HBoxView",
            "box_style": "",
            "children": [
              "IPY_MODEL_4089c856434d488493e8cb66ef77c99a",
              "IPY_MODEL_534e6b3663fb4820b523a74325c3bde3",
              "IPY_MODEL_e7c6f83c003349a98830229bbc987374"
            ],
            "layout": "IPY_MODEL_4657bbbc5fba433595af16c40d572c54"
          }
        },
        "4089c856434d488493e8cb66ef77c99a": {
          "model_module": "@jupyter-widgets/controls",
          "model_name": "HTMLModel",
          "model_module_version": "1.5.0",
          "state": {
            "_dom_classes": [],
            "_model_module": "@jupyter-widgets/controls",
            "_model_module_version": "1.5.0",
            "_model_name": "HTMLModel",
            "_view_count": null,
            "_view_module": "@jupyter-widgets/controls",
            "_view_module_version": "1.5.0",
            "_view_name": "HTMLView",
            "description": "",
            "description_tooltip": null,
            "layout": "IPY_MODEL_b08e938abc6045fdb743e055a3cec7ea",
            "placeholder": "​",
            "style": "IPY_MODEL_1a5bcae696f94d20867cdd621a314843",
            "value": "config.json: 100%"
          }
        },
        "534e6b3663fb4820b523a74325c3bde3": {
          "model_module": "@jupyter-widgets/controls",
          "model_name": "FloatProgressModel",
          "model_module_version": "1.5.0",
          "state": {
            "_dom_classes": [],
            "_model_module": "@jupyter-widgets/controls",
            "_model_module_version": "1.5.0",
            "_model_name": "FloatProgressModel",
            "_view_count": null,
            "_view_module": "@jupyter-widgets/controls",
            "_view_module_version": "1.5.0",
            "_view_name": "ProgressView",
            "bar_style": "success",
            "description": "",
            "description_tooltip": null,
            "layout": "IPY_MODEL_b940f6b6aa064714ab206d58e6fda810",
            "max": 570,
            "min": 0,
            "orientation": "horizontal",
            "style": "IPY_MODEL_61f1cd93877f45efa306b891db17f096",
            "value": 570
          }
        },
        "e7c6f83c003349a98830229bbc987374": {
          "model_module": "@jupyter-widgets/controls",
          "model_name": "HTMLModel",
          "model_module_version": "1.5.0",
          "state": {
            "_dom_classes": [],
            "_model_module": "@jupyter-widgets/controls",
            "_model_module_version": "1.5.0",
            "_model_name": "HTMLModel",
            "_view_count": null,
            "_view_module": "@jupyter-widgets/controls",
            "_view_module_version": "1.5.0",
            "_view_name": "HTMLView",
            "description": "",
            "description_tooltip": null,
            "layout": "IPY_MODEL_2588a0f87368437599376532d2fd7abf",
            "placeholder": "​",
            "style": "IPY_MODEL_1aa4f31bdb4646ef970a7922b3eb9be9",
            "value": " 570/570 [00:00&lt;00:00, 51.2kB/s]"
          }
        },
        "4657bbbc5fba433595af16c40d572c54": {
          "model_module": "@jupyter-widgets/base",
          "model_name": "LayoutModel",
          "model_module_version": "1.2.0",
          "state": {
            "_model_module": "@jupyter-widgets/base",
            "_model_module_version": "1.2.0",
            "_model_name": "LayoutModel",
            "_view_count": null,
            "_view_module": "@jupyter-widgets/base",
            "_view_module_version": "1.2.0",
            "_view_name": "LayoutView",
            "align_content": null,
            "align_items": null,
            "align_self": null,
            "border": null,
            "bottom": null,
            "display": null,
            "flex": null,
            "flex_flow": null,
            "grid_area": null,
            "grid_auto_columns": null,
            "grid_auto_flow": null,
            "grid_auto_rows": null,
            "grid_column": null,
            "grid_gap": null,
            "grid_row": null,
            "grid_template_areas": null,
            "grid_template_columns": null,
            "grid_template_rows": null,
            "height": null,
            "justify_content": null,
            "justify_items": null,
            "left": null,
            "margin": null,
            "max_height": null,
            "max_width": null,
            "min_height": null,
            "min_width": null,
            "object_fit": null,
            "object_position": null,
            "order": null,
            "overflow": null,
            "overflow_x": null,
            "overflow_y": null,
            "padding": null,
            "right": null,
            "top": null,
            "visibility": null,
            "width": null
          }
        },
        "b08e938abc6045fdb743e055a3cec7ea": {
          "model_module": "@jupyter-widgets/base",
          "model_name": "LayoutModel",
          "model_module_version": "1.2.0",
          "state": {
            "_model_module": "@jupyter-widgets/base",
            "_model_module_version": "1.2.0",
            "_model_name": "LayoutModel",
            "_view_count": null,
            "_view_module": "@jupyter-widgets/base",
            "_view_module_version": "1.2.0",
            "_view_name": "LayoutView",
            "align_content": null,
            "align_items": null,
            "align_self": null,
            "border": null,
            "bottom": null,
            "display": null,
            "flex": null,
            "flex_flow": null,
            "grid_area": null,
            "grid_auto_columns": null,
            "grid_auto_flow": null,
            "grid_auto_rows": null,
            "grid_column": null,
            "grid_gap": null,
            "grid_row": null,
            "grid_template_areas": null,
            "grid_template_columns": null,
            "grid_template_rows": null,
            "height": null,
            "justify_content": null,
            "justify_items": null,
            "left": null,
            "margin": null,
            "max_height": null,
            "max_width": null,
            "min_height": null,
            "min_width": null,
            "object_fit": null,
            "object_position": null,
            "order": null,
            "overflow": null,
            "overflow_x": null,
            "overflow_y": null,
            "padding": null,
            "right": null,
            "top": null,
            "visibility": null,
            "width": null
          }
        },
        "1a5bcae696f94d20867cdd621a314843": {
          "model_module": "@jupyter-widgets/controls",
          "model_name": "DescriptionStyleModel",
          "model_module_version": "1.5.0",
          "state": {
            "_model_module": "@jupyter-widgets/controls",
            "_model_module_version": "1.5.0",
            "_model_name": "DescriptionStyleModel",
            "_view_count": null,
            "_view_module": "@jupyter-widgets/base",
            "_view_module_version": "1.2.0",
            "_view_name": "StyleView",
            "description_width": ""
          }
        },
        "b940f6b6aa064714ab206d58e6fda810": {
          "model_module": "@jupyter-widgets/base",
          "model_name": "LayoutModel",
          "model_module_version": "1.2.0",
          "state": {
            "_model_module": "@jupyter-widgets/base",
            "_model_module_version": "1.2.0",
            "_model_name": "LayoutModel",
            "_view_count": null,
            "_view_module": "@jupyter-widgets/base",
            "_view_module_version": "1.2.0",
            "_view_name": "LayoutView",
            "align_content": null,
            "align_items": null,
            "align_self": null,
            "border": null,
            "bottom": null,
            "display": null,
            "flex": null,
            "flex_flow": null,
            "grid_area": null,
            "grid_auto_columns": null,
            "grid_auto_flow": null,
            "grid_auto_rows": null,
            "grid_column": null,
            "grid_gap": null,
            "grid_row": null,
            "grid_template_areas": null,
            "grid_template_columns": null,
            "grid_template_rows": null,
            "height": null,
            "justify_content": null,
            "justify_items": null,
            "left": null,
            "margin": null,
            "max_height": null,
            "max_width": null,
            "min_height": null,
            "min_width": null,
            "object_fit": null,
            "object_position": null,
            "order": null,
            "overflow": null,
            "overflow_x": null,
            "overflow_y": null,
            "padding": null,
            "right": null,
            "top": null,
            "visibility": null,
            "width": null
          }
        },
        "61f1cd93877f45efa306b891db17f096": {
          "model_module": "@jupyter-widgets/controls",
          "model_name": "ProgressStyleModel",
          "model_module_version": "1.5.0",
          "state": {
            "_model_module": "@jupyter-widgets/controls",
            "_model_module_version": "1.5.0",
            "_model_name": "ProgressStyleModel",
            "_view_count": null,
            "_view_module": "@jupyter-widgets/base",
            "_view_module_version": "1.2.0",
            "_view_name": "StyleView",
            "bar_color": null,
            "description_width": ""
          }
        },
        "2588a0f87368437599376532d2fd7abf": {
          "model_module": "@jupyter-widgets/base",
          "model_name": "LayoutModel",
          "model_module_version": "1.2.0",
          "state": {
            "_model_module": "@jupyter-widgets/base",
            "_model_module_version": "1.2.0",
            "_model_name": "LayoutModel",
            "_view_count": null,
            "_view_module": "@jupyter-widgets/base",
            "_view_module_version": "1.2.0",
            "_view_name": "LayoutView",
            "align_content": null,
            "align_items": null,
            "align_self": null,
            "border": null,
            "bottom": null,
            "display": null,
            "flex": null,
            "flex_flow": null,
            "grid_area": null,
            "grid_auto_columns": null,
            "grid_auto_flow": null,
            "grid_auto_rows": null,
            "grid_column": null,
            "grid_gap": null,
            "grid_row": null,
            "grid_template_areas": null,
            "grid_template_columns": null,
            "grid_template_rows": null,
            "height": null,
            "justify_content": null,
            "justify_items": null,
            "left": null,
            "margin": null,
            "max_height": null,
            "max_width": null,
            "min_height": null,
            "min_width": null,
            "object_fit": null,
            "object_position": null,
            "order": null,
            "overflow": null,
            "overflow_x": null,
            "overflow_y": null,
            "padding": null,
            "right": null,
            "top": null,
            "visibility": null,
            "width": null
          }
        },
        "1aa4f31bdb4646ef970a7922b3eb9be9": {
          "model_module": "@jupyter-widgets/controls",
          "model_name": "DescriptionStyleModel",
          "model_module_version": "1.5.0",
          "state": {
            "_model_module": "@jupyter-widgets/controls",
            "_model_module_version": "1.5.0",
            "_model_name": "DescriptionStyleModel",
            "_view_count": null,
            "_view_module": "@jupyter-widgets/base",
            "_view_module_version": "1.2.0",
            "_view_name": "StyleView",
            "description_width": ""
          }
        },
        "e5136d06053a4e9f8ebd12ec62f6138a": {
          "model_module": "@jupyter-widgets/controls",
          "model_name": "HBoxModel",
          "model_module_version": "1.5.0",
          "state": {
            "_dom_classes": [],
            "_model_module": "@jupyter-widgets/controls",
            "_model_module_version": "1.5.0",
            "_model_name": "HBoxModel",
            "_view_count": null,
            "_view_module": "@jupyter-widgets/controls",
            "_view_module_version": "1.5.0",
            "_view_name": "HBoxView",
            "box_style": "",
            "children": [
              "IPY_MODEL_bd155fa035e14aed845085890dfa58b9",
              "IPY_MODEL_2778f8913880496aa40d1dc2f3102cfa",
              "IPY_MODEL_1b720d4a2ff643db86a17e16fc2e5647"
            ],
            "layout": "IPY_MODEL_dbc9b89490824868b90c30a8bc3f0ed6"
          }
        },
        "bd155fa035e14aed845085890dfa58b9": {
          "model_module": "@jupyter-widgets/controls",
          "model_name": "HTMLModel",
          "model_module_version": "1.5.0",
          "state": {
            "_dom_classes": [],
            "_model_module": "@jupyter-widgets/controls",
            "_model_module_version": "1.5.0",
            "_model_name": "HTMLModel",
            "_view_count": null,
            "_view_module": "@jupyter-widgets/controls",
            "_view_module_version": "1.5.0",
            "_view_name": "HTMLView",
            "description": "",
            "description_tooltip": null,
            "layout": "IPY_MODEL_1601127d36144777b0d44a5af3e7dc8c",
            "placeholder": "​",
            "style": "IPY_MODEL_9045668246c047b7b514ab6af1320d61",
            "value": "model.safetensors: 100%"
          }
        },
        "2778f8913880496aa40d1dc2f3102cfa": {
          "model_module": "@jupyter-widgets/controls",
          "model_name": "FloatProgressModel",
          "model_module_version": "1.5.0",
          "state": {
            "_dom_classes": [],
            "_model_module": "@jupyter-widgets/controls",
            "_model_module_version": "1.5.0",
            "_model_name": "FloatProgressModel",
            "_view_count": null,
            "_view_module": "@jupyter-widgets/controls",
            "_view_module_version": "1.5.0",
            "_view_name": "ProgressView",
            "bar_style": "success",
            "description": "",
            "description_tooltip": null,
            "layout": "IPY_MODEL_d96010cba10a4c1a8f4baad50fccbe8d",
            "max": 440449768,
            "min": 0,
            "orientation": "horizontal",
            "style": "IPY_MODEL_5362cf5f8beb4a75b9d131f5e1237004",
            "value": 440449768
          }
        },
        "1b720d4a2ff643db86a17e16fc2e5647": {
          "model_module": "@jupyter-widgets/controls",
          "model_name": "HTMLModel",
          "model_module_version": "1.5.0",
          "state": {
            "_dom_classes": [],
            "_model_module": "@jupyter-widgets/controls",
            "_model_module_version": "1.5.0",
            "_model_name": "HTMLModel",
            "_view_count": null,
            "_view_module": "@jupyter-widgets/controls",
            "_view_module_version": "1.5.0",
            "_view_name": "HTMLView",
            "description": "",
            "description_tooltip": null,
            "layout": "IPY_MODEL_982ab1dbb0b64badb8493ecfcf923be7",
            "placeholder": "​",
            "style": "IPY_MODEL_a6f51e7fc62b41b89e095f7da6377fc3",
            "value": " 440M/440M [00:02&lt;00:00, 211MB/s]"
          }
        },
        "dbc9b89490824868b90c30a8bc3f0ed6": {
          "model_module": "@jupyter-widgets/base",
          "model_name": "LayoutModel",
          "model_module_version": "1.2.0",
          "state": {
            "_model_module": "@jupyter-widgets/base",
            "_model_module_version": "1.2.0",
            "_model_name": "LayoutModel",
            "_view_count": null,
            "_view_module": "@jupyter-widgets/base",
            "_view_module_version": "1.2.0",
            "_view_name": "LayoutView",
            "align_content": null,
            "align_items": null,
            "align_self": null,
            "border": null,
            "bottom": null,
            "display": null,
            "flex": null,
            "flex_flow": null,
            "grid_area": null,
            "grid_auto_columns": null,
            "grid_auto_flow": null,
            "grid_auto_rows": null,
            "grid_column": null,
            "grid_gap": null,
            "grid_row": null,
            "grid_template_areas": null,
            "grid_template_columns": null,
            "grid_template_rows": null,
            "height": null,
            "justify_content": null,
            "justify_items": null,
            "left": null,
            "margin": null,
            "max_height": null,
            "max_width": null,
            "min_height": null,
            "min_width": null,
            "object_fit": null,
            "object_position": null,
            "order": null,
            "overflow": null,
            "overflow_x": null,
            "overflow_y": null,
            "padding": null,
            "right": null,
            "top": null,
            "visibility": null,
            "width": null
          }
        },
        "1601127d36144777b0d44a5af3e7dc8c": {
          "model_module": "@jupyter-widgets/base",
          "model_name": "LayoutModel",
          "model_module_version": "1.2.0",
          "state": {
            "_model_module": "@jupyter-widgets/base",
            "_model_module_version": "1.2.0",
            "_model_name": "LayoutModel",
            "_view_count": null,
            "_view_module": "@jupyter-widgets/base",
            "_view_module_version": "1.2.0",
            "_view_name": "LayoutView",
            "align_content": null,
            "align_items": null,
            "align_self": null,
            "border": null,
            "bottom": null,
            "display": null,
            "flex": null,
            "flex_flow": null,
            "grid_area": null,
            "grid_auto_columns": null,
            "grid_auto_flow": null,
            "grid_auto_rows": null,
            "grid_column": null,
            "grid_gap": null,
            "grid_row": null,
            "grid_template_areas": null,
            "grid_template_columns": null,
            "grid_template_rows": null,
            "height": null,
            "justify_content": null,
            "justify_items": null,
            "left": null,
            "margin": null,
            "max_height": null,
            "max_width": null,
            "min_height": null,
            "min_width": null,
            "object_fit": null,
            "object_position": null,
            "order": null,
            "overflow": null,
            "overflow_x": null,
            "overflow_y": null,
            "padding": null,
            "right": null,
            "top": null,
            "visibility": null,
            "width": null
          }
        },
        "9045668246c047b7b514ab6af1320d61": {
          "model_module": "@jupyter-widgets/controls",
          "model_name": "DescriptionStyleModel",
          "model_module_version": "1.5.0",
          "state": {
            "_model_module": "@jupyter-widgets/controls",
            "_model_module_version": "1.5.0",
            "_model_name": "DescriptionStyleModel",
            "_view_count": null,
            "_view_module": "@jupyter-widgets/base",
            "_view_module_version": "1.2.0",
            "_view_name": "StyleView",
            "description_width": ""
          }
        },
        "d96010cba10a4c1a8f4baad50fccbe8d": {
          "model_module": "@jupyter-widgets/base",
          "model_name": "LayoutModel",
          "model_module_version": "1.2.0",
          "state": {
            "_model_module": "@jupyter-widgets/base",
            "_model_module_version": "1.2.0",
            "_model_name": "LayoutModel",
            "_view_count": null,
            "_view_module": "@jupyter-widgets/base",
            "_view_module_version": "1.2.0",
            "_view_name": "LayoutView",
            "align_content": null,
            "align_items": null,
            "align_self": null,
            "border": null,
            "bottom": null,
            "display": null,
            "flex": null,
            "flex_flow": null,
            "grid_area": null,
            "grid_auto_columns": null,
            "grid_auto_flow": null,
            "grid_auto_rows": null,
            "grid_column": null,
            "grid_gap": null,
            "grid_row": null,
            "grid_template_areas": null,
            "grid_template_columns": null,
            "grid_template_rows": null,
            "height": null,
            "justify_content": null,
            "justify_items": null,
            "left": null,
            "margin": null,
            "max_height": null,
            "max_width": null,
            "min_height": null,
            "min_width": null,
            "object_fit": null,
            "object_position": null,
            "order": null,
            "overflow": null,
            "overflow_x": null,
            "overflow_y": null,
            "padding": null,
            "right": null,
            "top": null,
            "visibility": null,
            "width": null
          }
        },
        "5362cf5f8beb4a75b9d131f5e1237004": {
          "model_module": "@jupyter-widgets/controls",
          "model_name": "ProgressStyleModel",
          "model_module_version": "1.5.0",
          "state": {
            "_model_module": "@jupyter-widgets/controls",
            "_model_module_version": "1.5.0",
            "_model_name": "ProgressStyleModel",
            "_view_count": null,
            "_view_module": "@jupyter-widgets/base",
            "_view_module_version": "1.2.0",
            "_view_name": "StyleView",
            "bar_color": null,
            "description_width": ""
          }
        },
        "982ab1dbb0b64badb8493ecfcf923be7": {
          "model_module": "@jupyter-widgets/base",
          "model_name": "LayoutModel",
          "model_module_version": "1.2.0",
          "state": {
            "_model_module": "@jupyter-widgets/base",
            "_model_module_version": "1.2.0",
            "_model_name": "LayoutModel",
            "_view_count": null,
            "_view_module": "@jupyter-widgets/base",
            "_view_module_version": "1.2.0",
            "_view_name": "LayoutView",
            "align_content": null,
            "align_items": null,
            "align_self": null,
            "border": null,
            "bottom": null,
            "display": null,
            "flex": null,
            "flex_flow": null,
            "grid_area": null,
            "grid_auto_columns": null,
            "grid_auto_flow": null,
            "grid_auto_rows": null,
            "grid_column": null,
            "grid_gap": null,
            "grid_row": null,
            "grid_template_areas": null,
            "grid_template_columns": null,
            "grid_template_rows": null,
            "height": null,
            "justify_content": null,
            "justify_items": null,
            "left": null,
            "margin": null,
            "max_height": null,
            "max_width": null,
            "min_height": null,
            "min_width": null,
            "object_fit": null,
            "object_position": null,
            "order": null,
            "overflow": null,
            "overflow_x": null,
            "overflow_y": null,
            "padding": null,
            "right": null,
            "top": null,
            "visibility": null,
            "width": null
          }
        },
        "a6f51e7fc62b41b89e095f7da6377fc3": {
          "model_module": "@jupyter-widgets/controls",
          "model_name": "DescriptionStyleModel",
          "model_module_version": "1.5.0",
          "state": {
            "_model_module": "@jupyter-widgets/controls",
            "_model_module_version": "1.5.0",
            "_model_name": "DescriptionStyleModel",
            "_view_count": null,
            "_view_module": "@jupyter-widgets/base",
            "_view_module_version": "1.2.0",
            "_view_name": "StyleView",
            "description_width": ""
          }
        }
      }
    },
    "accelerator": "TPU"
  },
  "nbformat": 4,
  "nbformat_minor": 0
}